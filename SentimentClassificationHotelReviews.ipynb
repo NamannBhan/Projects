{
 "cells": [
  {
   "cell_type": "code",
   "execution_count": 1,
   "id": "8a821974",
   "metadata": {},
   "outputs": [],
   "source": [
    "import pandas as pd\n"
   ]
  },
  {
   "cell_type": "code",
   "execution_count": 2,
   "id": "617553b9",
   "metadata": {},
   "outputs": [
    {
     "data": {
      "text/html": [
       "<div>\n",
       "<style scoped>\n",
       "    .dataframe tbody tr th:only-of-type {\n",
       "        vertical-align: middle;\n",
       "    }\n",
       "\n",
       "    .dataframe tbody tr th {\n",
       "        vertical-align: top;\n",
       "    }\n",
       "\n",
       "    .dataframe thead th {\n",
       "        text-align: right;\n",
       "    }\n",
       "</style>\n",
       "<table border=\"1\" class=\"dataframe\">\n",
       "  <thead>\n",
       "    <tr style=\"text-align: right;\">\n",
       "      <th></th>\n",
       "      <th>User_ID</th>\n",
       "      <th>Description</th>\n",
       "      <th>Browser_Used</th>\n",
       "      <th>Device_Used</th>\n",
       "      <th>Is_Response</th>\n",
       "    </tr>\n",
       "  </thead>\n",
       "  <tbody>\n",
       "    <tr>\n",
       "      <th>0</th>\n",
       "      <td>id10326</td>\n",
       "      <td>The room was kind of clean but had a VERY stro...</td>\n",
       "      <td>Edge</td>\n",
       "      <td>Mobile</td>\n",
       "      <td>not happy</td>\n",
       "    </tr>\n",
       "    <tr>\n",
       "      <th>1</th>\n",
       "      <td>id10327</td>\n",
       "      <td>I stayed at the Crown Plaza April -- - April -...</td>\n",
       "      <td>Internet Explorer</td>\n",
       "      <td>Mobile</td>\n",
       "      <td>not happy</td>\n",
       "    </tr>\n",
       "    <tr>\n",
       "      <th>2</th>\n",
       "      <td>id10328</td>\n",
       "      <td>I booked this hotel through Hotwire at the low...</td>\n",
       "      <td>Mozilla</td>\n",
       "      <td>Tablet</td>\n",
       "      <td>not happy</td>\n",
       "    </tr>\n",
       "    <tr>\n",
       "      <th>3</th>\n",
       "      <td>id10329</td>\n",
       "      <td>Stayed here with husband and sons on the way t...</td>\n",
       "      <td>InternetExplorer</td>\n",
       "      <td>Desktop</td>\n",
       "      <td>happy</td>\n",
       "    </tr>\n",
       "    <tr>\n",
       "      <th>4</th>\n",
       "      <td>id10330</td>\n",
       "      <td>My girlfriends and I stayed here to celebrate ...</td>\n",
       "      <td>Edge</td>\n",
       "      <td>Tablet</td>\n",
       "      <td>not happy</td>\n",
       "    </tr>\n",
       "  </tbody>\n",
       "</table>\n",
       "</div>"
      ],
      "text/plain": [
       "   User_ID                                        Description  \\\n",
       "0  id10326  The room was kind of clean but had a VERY stro...   \n",
       "1  id10327  I stayed at the Crown Plaza April -- - April -...   \n",
       "2  id10328  I booked this hotel through Hotwire at the low...   \n",
       "3  id10329  Stayed here with husband and sons on the way t...   \n",
       "4  id10330  My girlfriends and I stayed here to celebrate ...   \n",
       "\n",
       "        Browser_Used Device_Used Is_Response  \n",
       "0               Edge      Mobile   not happy  \n",
       "1  Internet Explorer      Mobile   not happy  \n",
       "2            Mozilla      Tablet   not happy  \n",
       "3   InternetExplorer     Desktop       happy  \n",
       "4               Edge      Tablet   not happy  "
      ]
     },
     "execution_count": 2,
     "metadata": {},
     "output_type": "execute_result"
    }
   ],
   "source": [
    "df=pd.read_csv('train.csv')\n",
    "df.head()\n"
   ]
  },
  {
   "cell_type": "code",
   "execution_count": 3,
   "id": "484dc8a6",
   "metadata": {},
   "outputs": [
    {
     "data": {
      "text/plain": [
       "(38932, 5)"
      ]
     },
     "execution_count": 3,
     "metadata": {},
     "output_type": "execute_result"
    }
   ],
   "source": [
    "df.shape\n"
   ]
  },
  {
   "cell_type": "code",
   "execution_count": 4,
   "id": "6565950f",
   "metadata": {},
   "outputs": [
    {
     "name": "stdout",
     "output_type": "stream",
     "text": [
      "<class 'pandas.core.frame.DataFrame'>\n",
      "RangeIndex: 38932 entries, 0 to 38931\n",
      "Data columns (total 5 columns):\n",
      " #   Column        Non-Null Count  Dtype \n",
      "---  ------        --------------  ----- \n",
      " 0   User_ID       38932 non-null  object\n",
      " 1   Description   38932 non-null  object\n",
      " 2   Browser_Used  38932 non-null  object\n",
      " 3   Device_Used   38932 non-null  object\n",
      " 4   Is_Response   38932 non-null  object\n",
      "dtypes: object(5)\n",
      "memory usage: 1.5+ MB\n"
     ]
    }
   ],
   "source": [
    "df.info()\n"
   ]
  },
  {
   "cell_type": "code",
   "execution_count": 5,
   "id": "db1c801f",
   "metadata": {},
   "outputs": [
    {
     "data": {
      "text/plain": [
       "happy        26521\n",
       "not happy    12411\n",
       "Name: Is_Response, dtype: int64"
      ]
     },
     "execution_count": 5,
     "metadata": {},
     "output_type": "execute_result"
    }
   ],
   "source": [
    "df['Is_Response'].value_counts()\n"
   ]
  },
  {
   "cell_type": "code",
   "execution_count": 6,
   "id": "c8544d78",
   "metadata": {},
   "outputs": [
    {
     "data": {
      "text/plain": [
       "User_ID         0\n",
       "Description     0\n",
       "Browser_Used    0\n",
       "Device_Used     0\n",
       "Is_Response     0\n",
       "dtype: int64"
      ]
     },
     "execution_count": 6,
     "metadata": {},
     "output_type": "execute_result"
    }
   ],
   "source": [
    "df.isnull().sum()\n"
   ]
  },
  {
   "cell_type": "code",
   "execution_count": 8,
   "id": "b6475a0a",
   "metadata": {},
   "outputs": [],
   "source": [
    "import matplotlib.pyplot as plt\n"
   ]
  },
  {
   "cell_type": "code",
   "execution_count": 11,
   "id": "8a683a78",
   "metadata": {},
   "outputs": [
    {
     "name": "stdout",
     "output_type": "stream",
     "text": [
      "happy        68.12\n",
      "not happy    31.88\n",
      "Name: Is_Response, dtype: float64\n"
     ]
    }
   ],
   "source": [
    "print(round(df['Is_Response'].value_counts(normalize=True)*100,2))\n"
   ]
  },
  {
   "cell_type": "code",
   "execution_count": 12,
   "id": "e3edb9a8",
   "metadata": {},
   "outputs": [
    {
     "data": {
      "text/plain": [
       "<AxesSubplot:>"
      ]
     },
     "execution_count": 12,
     "metadata": {},
     "output_type": "execute_result"
    },
    {
     "data": {
      "image/png": "[encoded data removed]",
      "text/plain": [
       "<Figure size 432x288 with 1 Axes>"
      ]
     },
     "metadata": {
      "needs_background": "light"
     },
     "output_type": "display_data"
    }
   ],
   "source": [
    "round(df['Is_Response'].value_counts(normalize=True)*100,2).plot(kind='bar')"
   ]
  },
  {
   "cell_type": "code",
   "execution_count": 13,
   "id": "e29b0d8a",
   "metadata": {},
   "outputs": [
    {
     "data": {
      "text/html": [
       "<div>\n",
       "<style scoped>\n",
       "    .dataframe tbody tr th:only-of-type {\n",
       "        vertical-align: middle;\n",
       "    }\n",
       "\n",
       "    .dataframe tbody tr th {\n",
       "        vertical-align: top;\n",
       "    }\n",
       "\n",
       "    .dataframe thead th {\n",
       "        text-align: right;\n",
       "    }\n",
       "</style>\n",
       "<table border=\"1\" class=\"dataframe\">\n",
       "  <thead>\n",
       "    <tr style=\"text-align: right;\">\n",
       "      <th></th>\n",
       "      <th>User_ID</th>\n",
       "      <th>Description</th>\n",
       "      <th>Browser_Used</th>\n",
       "      <th>Device_Used</th>\n",
       "      <th>Is_Response</th>\n",
       "    </tr>\n",
       "  </thead>\n",
       "  <tbody>\n",
       "    <tr>\n",
       "      <th>0</th>\n",
       "      <td>id10326</td>\n",
       "      <td>The room was kind of clean but had a VERY stro...</td>\n",
       "      <td>Edge</td>\n",
       "      <td>Mobile</td>\n",
       "      <td>not happy</td>\n",
       "    </tr>\n",
       "    <tr>\n",
       "      <th>1</th>\n",
       "      <td>id10327</td>\n",
       "      <td>I stayed at the Crown Plaza April -- - April -...</td>\n",
       "      <td>Internet Explorer</td>\n",
       "      <td>Mobile</td>\n",
       "      <td>not happy</td>\n",
       "    </tr>\n",
       "    <tr>\n",
       "      <th>2</th>\n",
       "      <td>id10328</td>\n",
       "      <td>I booked this hotel through Hotwire at the low...</td>\n",
       "      <td>Mozilla</td>\n",
       "      <td>Tablet</td>\n",
       "      <td>not happy</td>\n",
       "    </tr>\n",
       "    <tr>\n",
       "      <th>3</th>\n",
       "      <td>id10329</td>\n",
       "      <td>Stayed here with husband and sons on the way t...</td>\n",
       "      <td>InternetExplorer</td>\n",
       "      <td>Desktop</td>\n",
       "      <td>happy</td>\n",
       "    </tr>\n",
       "    <tr>\n",
       "      <th>4</th>\n",
       "      <td>id10330</td>\n",
       "      <td>My girlfriends and I stayed here to celebrate ...</td>\n",
       "      <td>Edge</td>\n",
       "      <td>Tablet</td>\n",
       "      <td>not happy</td>\n",
       "    </tr>\n",
       "    <tr>\n",
       "      <th>...</th>\n",
       "      <td>...</td>\n",
       "      <td>...</td>\n",
       "      <td>...</td>\n",
       "      <td>...</td>\n",
       "      <td>...</td>\n",
       "    </tr>\n",
       "    <tr>\n",
       "      <th>38927</th>\n",
       "      <td>id49253</td>\n",
       "      <td>We arrived late at night and walked in to a ch...</td>\n",
       "      <td>Edge</td>\n",
       "      <td>Desktop</td>\n",
       "      <td>happy</td>\n",
       "    </tr>\n",
       "    <tr>\n",
       "      <th>38928</th>\n",
       "      <td>id49254</td>\n",
       "      <td>The only positive impression is location and p...</td>\n",
       "      <td>InternetExplorer</td>\n",
       "      <td>Mobile</td>\n",
       "      <td>not happy</td>\n",
       "    </tr>\n",
       "    <tr>\n",
       "      <th>38929</th>\n",
       "      <td>id49255</td>\n",
       "      <td>Traveling with friends for shopping and a show...</td>\n",
       "      <td>Firefox</td>\n",
       "      <td>Mobile</td>\n",
       "      <td>not happy</td>\n",
       "    </tr>\n",
       "    <tr>\n",
       "      <th>38930</th>\n",
       "      <td>id49256</td>\n",
       "      <td>The experience was just ok. We paid extra for ...</td>\n",
       "      <td>Chrome</td>\n",
       "      <td>Desktop</td>\n",
       "      <td>not happy</td>\n",
       "    </tr>\n",
       "    <tr>\n",
       "      <th>38931</th>\n",
       "      <td>id49257</td>\n",
       "      <td>The Westin is a wonderfully restored grande da...</td>\n",
       "      <td>Mozilla</td>\n",
       "      <td>Desktop</td>\n",
       "      <td>happy</td>\n",
       "    </tr>\n",
       "  </tbody>\n",
       "</table>\n",
       "<p>38932 rows × 5 columns</p>\n",
       "</div>"
      ],
      "text/plain": [
       "       User_ID                                        Description  \\\n",
       "0      id10326  The room was kind of clean but had a VERY stro...   \n",
       "1      id10327  I stayed at the Crown Plaza April -- - April -...   \n",
       "2      id10328  I booked this hotel through Hotwire at the low...   \n",
       "3      id10329  Stayed here with husband and sons on the way t...   \n",
       "4      id10330  My girlfriends and I stayed here to celebrate ...   \n",
       "...        ...                                                ...   \n",
       "38927  id49253  We arrived late at night and walked in to a ch...   \n",
       "38928  id49254  The only positive impression is location and p...   \n",
       "38929  id49255  Traveling with friends for shopping and a show...   \n",
       "38930  id49256  The experience was just ok. We paid extra for ...   \n",
       "38931  id49257  The Westin is a wonderfully restored grande da...   \n",
       "\n",
       "            Browser_Used Device_Used Is_Response  \n",
       "0                   Edge      Mobile   not happy  \n",
       "1      Internet Explorer      Mobile   not happy  \n",
       "2                Mozilla      Tablet   not happy  \n",
       "3       InternetExplorer     Desktop       happy  \n",
       "4                   Edge      Tablet   not happy  \n",
       "...                  ...         ...         ...  \n",
       "38927               Edge     Desktop       happy  \n",
       "38928   InternetExplorer      Mobile   not happy  \n",
       "38929            Firefox      Mobile   not happy  \n",
       "38930             Chrome     Desktop   not happy  \n",
       "38931            Mozilla     Desktop       happy  \n",
       "\n",
       "[38932 rows x 5 columns]"
      ]
     },
     "execution_count": 13,
     "metadata": {},
     "output_type": "execute_result"
    }
   ],
   "source": [
    "df\n"
   ]
  },
  {
   "cell_type": "code",
   "execution_count": 15,
   "id": "908236bb",
   "metadata": {},
   "outputs": [],
   "source": [
    "df.drop(columns=['User_ID','Browser_Used','Device_Used'],inplace=True)\n"
   ]
  },
  {
   "cell_type": "code",
   "execution_count": 16,
   "id": "55059806",
   "metadata": {},
   "outputs": [
    {
     "data": {
      "text/html": [
       "<div>\n",
       "<style scoped>\n",
       "    .dataframe tbody tr th:only-of-type {\n",
       "        vertical-align: middle;\n",
       "    }\n",
       "\n",
       "    .dataframe tbody tr th {\n",
       "        vertical-align: top;\n",
       "    }\n",
       "\n",
       "    .dataframe thead th {\n",
       "        text-align: right;\n",
       "    }\n",
       "</style>\n",
       "<table border=\"1\" class=\"dataframe\">\n",
       "  <thead>\n",
       "    <tr style=\"text-align: right;\">\n",
       "      <th></th>\n",
       "      <th>Description</th>\n",
       "      <th>Is_Response</th>\n",
       "    </tr>\n",
       "  </thead>\n",
       "  <tbody>\n",
       "    <tr>\n",
       "      <th>0</th>\n",
       "      <td>The room was kind of clean but had a VERY stro...</td>\n",
       "      <td>not happy</td>\n",
       "    </tr>\n",
       "    <tr>\n",
       "      <th>1</th>\n",
       "      <td>I stayed at the Crown Plaza April -- - April -...</td>\n",
       "      <td>not happy</td>\n",
       "    </tr>\n",
       "    <tr>\n",
       "      <th>2</th>\n",
       "      <td>I booked this hotel through Hotwire at the low...</td>\n",
       "      <td>not happy</td>\n",
       "    </tr>\n",
       "    <tr>\n",
       "      <th>3</th>\n",
       "      <td>Stayed here with husband and sons on the way t...</td>\n",
       "      <td>happy</td>\n",
       "    </tr>\n",
       "    <tr>\n",
       "      <th>4</th>\n",
       "      <td>My girlfriends and I stayed here to celebrate ...</td>\n",
       "      <td>not happy</td>\n",
       "    </tr>\n",
       "    <tr>\n",
       "      <th>...</th>\n",
       "      <td>...</td>\n",
       "      <td>...</td>\n",
       "    </tr>\n",
       "    <tr>\n",
       "      <th>38927</th>\n",
       "      <td>We arrived late at night and walked in to a ch...</td>\n",
       "      <td>happy</td>\n",
       "    </tr>\n",
       "    <tr>\n",
       "      <th>38928</th>\n",
       "      <td>The only positive impression is location and p...</td>\n",
       "      <td>not happy</td>\n",
       "    </tr>\n",
       "    <tr>\n",
       "      <th>38929</th>\n",
       "      <td>Traveling with friends for shopping and a show...</td>\n",
       "      <td>not happy</td>\n",
       "    </tr>\n",
       "    <tr>\n",
       "      <th>38930</th>\n",
       "      <td>The experience was just ok. We paid extra for ...</td>\n",
       "      <td>not happy</td>\n",
       "    </tr>\n",
       "    <tr>\n",
       "      <th>38931</th>\n",
       "      <td>The Westin is a wonderfully restored grande da...</td>\n",
       "      <td>happy</td>\n",
       "    </tr>\n",
       "  </tbody>\n",
       "</table>\n",
       "<p>38932 rows × 2 columns</p>\n",
       "</div>"
      ],
      "text/plain": [
       "                                             Description Is_Response\n",
       "0      The room was kind of clean but had a VERY stro...   not happy\n",
       "1      I stayed at the Crown Plaza April -- - April -...   not happy\n",
       "2      I booked this hotel through Hotwire at the low...   not happy\n",
       "3      Stayed here with husband and sons on the way t...       happy\n",
       "4      My girlfriends and I stayed here to celebrate ...   not happy\n",
       "...                                                  ...         ...\n",
       "38927  We arrived late at night and walked in to a ch...       happy\n",
       "38928  The only positive impression is location and p...   not happy\n",
       "38929  Traveling with friends for shopping and a show...   not happy\n",
       "38930  The experience was just ok. We paid extra for ...   not happy\n",
       "38931  The Westin is a wonderfully restored grande da...       happy\n",
       "\n",
       "[38932 rows x 2 columns]"
      ]
     },
     "execution_count": 16,
     "metadata": {},
     "output_type": "execute_result"
    }
   ],
   "source": [
    "df\n"
   ]
  },
  {
   "cell_type": "code",
   "execution_count": 17,
   "id": "c6acaff2",
   "metadata": {},
   "outputs": [],
   "source": [
    "import re\n"
   ]
  },
  {
   "cell_type": "code",
   "execution_count": 18,
   "id": "58197283",
   "metadata": {},
   "outputs": [],
   "source": [
    "def clean_text(text):\n",
    "    text=text.lower()\n",
    "    text=re.sub('[^a-zA-Z]',' ',text)\n",
    "    text=re.sub('[^\\w\\s]',' ',text)\n",
    "    return text\n",
    "\n",
    "cleaned1= lambda x: clean_text(x)\n"
   ]
  },
  {
   "cell_type": "code",
   "execution_count": 19,
   "id": "cafe2161",
   "metadata": {},
   "outputs": [],
   "source": [
    "df['NewCleanedText']=pd.DataFrame(df['Description'].apply(cleaned1))\n"
   ]
  },
  {
   "cell_type": "code",
   "execution_count": 20,
   "id": "2dafc1e9",
   "metadata": {},
   "outputs": [
    {
     "data": {
      "text/html": [
       "<div>\n",
       "<style scoped>\n",
       "    .dataframe tbody tr th:only-of-type {\n",
       "        vertical-align: middle;\n",
       "    }\n",
       "\n",
       "    .dataframe tbody tr th {\n",
       "        vertical-align: top;\n",
       "    }\n",
       "\n",
       "    .dataframe thead th {\n",
       "        text-align: right;\n",
       "    }\n",
       "</style>\n",
       "<table border=\"1\" class=\"dataframe\">\n",
       "  <thead>\n",
       "    <tr style=\"text-align: right;\">\n",
       "      <th></th>\n",
       "      <th>Description</th>\n",
       "      <th>Is_Response</th>\n",
       "      <th>NewCleanedText</th>\n",
       "    </tr>\n",
       "  </thead>\n",
       "  <tbody>\n",
       "    <tr>\n",
       "      <th>0</th>\n",
       "      <td>The room was kind of clean but had a VERY stro...</td>\n",
       "      <td>not happy</td>\n",
       "      <td>the room was kind of clean but had a very stro...</td>\n",
       "    </tr>\n",
       "    <tr>\n",
       "      <th>1</th>\n",
       "      <td>I stayed at the Crown Plaza April -- - April -...</td>\n",
       "      <td>not happy</td>\n",
       "      <td>i stayed at the crown plaza april      april  ...</td>\n",
       "    </tr>\n",
       "    <tr>\n",
       "      <th>2</th>\n",
       "      <td>I booked this hotel through Hotwire at the low...</td>\n",
       "      <td>not happy</td>\n",
       "      <td>i booked this hotel through hotwire at the low...</td>\n",
       "    </tr>\n",
       "    <tr>\n",
       "      <th>3</th>\n",
       "      <td>Stayed here with husband and sons on the way t...</td>\n",
       "      <td>happy</td>\n",
       "      <td>stayed here with husband and sons on the way t...</td>\n",
       "    </tr>\n",
       "    <tr>\n",
       "      <th>4</th>\n",
       "      <td>My girlfriends and I stayed here to celebrate ...</td>\n",
       "      <td>not happy</td>\n",
       "      <td>my girlfriends and i stayed here to celebrate ...</td>\n",
       "    </tr>\n",
       "    <tr>\n",
       "      <th>...</th>\n",
       "      <td>...</td>\n",
       "      <td>...</td>\n",
       "      <td>...</td>\n",
       "    </tr>\n",
       "    <tr>\n",
       "      <th>38927</th>\n",
       "      <td>We arrived late at night and walked in to a ch...</td>\n",
       "      <td>happy</td>\n",
       "      <td>we arrived late at night and walked in to a ch...</td>\n",
       "    </tr>\n",
       "    <tr>\n",
       "      <th>38928</th>\n",
       "      <td>The only positive impression is location and p...</td>\n",
       "      <td>not happy</td>\n",
       "      <td>the only positive impression is location and p...</td>\n",
       "    </tr>\n",
       "    <tr>\n",
       "      <th>38929</th>\n",
       "      <td>Traveling with friends for shopping and a show...</td>\n",
       "      <td>not happy</td>\n",
       "      <td>traveling with friends for shopping and a show...</td>\n",
       "    </tr>\n",
       "    <tr>\n",
       "      <th>38930</th>\n",
       "      <td>The experience was just ok. We paid extra for ...</td>\n",
       "      <td>not happy</td>\n",
       "      <td>the experience was just ok  we paid extra for ...</td>\n",
       "    </tr>\n",
       "    <tr>\n",
       "      <th>38931</th>\n",
       "      <td>The Westin is a wonderfully restored grande da...</td>\n",
       "      <td>happy</td>\n",
       "      <td>the westin is a wonderfully restored grande da...</td>\n",
       "    </tr>\n",
       "  </tbody>\n",
       "</table>\n",
       "<p>38932 rows × 3 columns</p>\n",
       "</div>"
      ],
      "text/plain": [
       "                                             Description Is_Response  \\\n",
       "0      The room was kind of clean but had a VERY stro...   not happy   \n",
       "1      I stayed at the Crown Plaza April -- - April -...   not happy   \n",
       "2      I booked this hotel through Hotwire at the low...   not happy   \n",
       "3      Stayed here with husband and sons on the way t...       happy   \n",
       "4      My girlfriends and I stayed here to celebrate ...   not happy   \n",
       "...                                                  ...         ...   \n",
       "38927  We arrived late at night and walked in to a ch...       happy   \n",
       "38928  The only positive impression is location and p...   not happy   \n",
       "38929  Traveling with friends for shopping and a show...   not happy   \n",
       "38930  The experience was just ok. We paid extra for ...   not happy   \n",
       "38931  The Westin is a wonderfully restored grande da...       happy   \n",
       "\n",
       "                                          NewCleanedText  \n",
       "0      the room was kind of clean but had a very stro...  \n",
       "1      i stayed at the crown plaza april      april  ...  \n",
       "2      i booked this hotel through hotwire at the low...  \n",
       "3      stayed here with husband and sons on the way t...  \n",
       "4      my girlfriends and i stayed here to celebrate ...  \n",
       "...                                                  ...  \n",
       "38927  we arrived late at night and walked in to a ch...  \n",
       "38928  the only positive impression is location and p...  \n",
       "38929  traveling with friends for shopping and a show...  \n",
       "38930  the experience was just ok  we paid extra for ...  \n",
       "38931  the westin is a wonderfully restored grande da...  \n",
       "\n",
       "[38932 rows x 3 columns]"
      ]
     },
     "execution_count": 20,
     "metadata": {},
     "output_type": "execute_result"
    }
   ],
   "source": [
    "df\n"
   ]
  },
  {
   "cell_type": "code",
   "execution_count": 26,
   "id": "2e6cd044",
   "metadata": {},
   "outputs": [],
   "source": [
    "from sklearn.model_selection import train_test_split\n",
    "X_train,X_test,Y_train,Y_test=train_test_split(df['NewCleanedText'],df['Is_Response'],test_size=0.2)\n"
   ]
  },
  {
   "cell_type": "code",
   "execution_count": 27,
   "id": "581e7d15",
   "metadata": {},
   "outputs": [
    {
     "name": "stdout",
     "output_type": "stream",
     "text": [
      "31145\n",
      "7787\n",
      "31145\n",
      "7787\n"
     ]
    }
   ],
   "source": [
    "print(len(X_train))\n",
    "print(len(X_test))\n",
    "print(len(Y_train))\n",
    "print(len(Y_test))"
   ]
  },
  {
   "cell_type": "code",
   "execution_count": 30,
   "id": "2fa90916",
   "metadata": {},
   "outputs": [],
   "source": [
    "from sklearn.feature_extraction.text import TfidfVectorizer\n",
    "from sklearn.linear_model import LogisticRegression\n"
   ]
  },
  {
   "cell_type": "code",
   "execution_count": 31,
   "id": "78d08ac0",
   "metadata": {},
   "outputs": [],
   "source": [
    "tfidf=TfidfVectorizer()\n",
    "logreg=LogisticRegression()\n"
   ]
  },
  {
   "cell_type": "code",
   "execution_count": 32,
   "id": "fbe410b2",
   "metadata": {},
   "outputs": [],
   "source": [
    "from sklearn.pipeline import Pipeline\n"
   ]
  },
  {
   "cell_type": "code",
   "execution_count": 33,
   "id": "f57f6684",
   "metadata": {},
   "outputs": [],
   "source": [
    "model=Pipeline([('vectorizer',tfidf),('classifier',logreg)])\n"
   ]
  },
  {
   "cell_type": "code",
   "execution_count": 34,
   "id": "18b837db",
   "metadata": {},
   "outputs": [
    {
     "name": "stderr",
     "output_type": "stream",
     "text": [
      "C:\\Anaconda\\lib\\site-packages\\sklearn\\linear_model\\_logistic.py:763: ConvergenceWarning: lbfgs failed to converge (status=1):\n",
      "STOP: TOTAL NO. of ITERATIONS REACHED LIMIT.\n",
      "\n",
      "Increase the number of iterations (max_iter) or scale the data as shown in:\n",
      "    https://scikit-learn.org/stable/modules/preprocessing.html\n",
      "Please also refer to the documentation for alternative solver options:\n",
      "    https://scikit-learn.org/stable/modules/linear_model.html#logistic-regression\n",
      "  n_iter_i = _check_optimize_result(\n"
     ]
    },
    {
     "data": {
      "text/plain": [
       "Pipeline(steps=[('vectorizer', TfidfVectorizer()),\n",
       "                ('classifier', LogisticRegression())])"
      ]
     },
     "execution_count": 34,
     "metadata": {},
     "output_type": "execute_result"
    }
   ],
   "source": [
    "model.fit(X_train,Y_train)\n"
   ]
  },
  {
   "cell_type": "code",
   "execution_count": 35,
   "id": "dea249b6",
   "metadata": {},
   "outputs": [],
   "source": [
    "from sklearn.metrics import confusion_matrix,accuracy_score\n"
   ]
  },
  {
   "cell_type": "code",
   "execution_count": 36,
   "id": "7f42150b",
   "metadata": {},
   "outputs": [],
   "source": [
    "predictions=model.predict(X_test)\n"
   ]
  },
  {
   "cell_type": "code",
   "execution_count": 37,
   "id": "1dc32205",
   "metadata": {},
   "outputs": [],
   "source": [
    "conf_m=confusion_matrix(predictions,Y_test)\n"
   ]
  },
  {
   "cell_type": "code",
   "execution_count": 38,
   "id": "4db0cf9c",
   "metadata": {},
   "outputs": [
    {
     "name": "stdout",
     "output_type": "stream",
     "text": [
      "[[4957  548]\n",
      " [ 333 1949]]\n",
      "0.8868627199178117\n"
     ]
    }
   ],
   "source": [
    "acc=accuracy_score(predictions,Y_test)\n",
    "print(conf_m)\n",
    "print(acc)\n"
   ]
  },
  {
   "cell_type": "code",
   "execution_count": 39,
   "id": "be6feac8",
   "metadata": {},
   "outputs": [
    {
     "name": "stdout",
     "output_type": "stream",
     "text": [
      "['happy']\n"
     ]
    }
   ],
   "source": [
    "example=['Im satisfied with the food']\n",
    "print(model.predict(example))\n"
   ]
  },
  {
   "cell_type": "code",
   "execution_count": null,
   "id": "646f1ebe",
   "metadata": {},
   "outputs": [],
   "source": []
  }
 ],
 "metadata": {
  "kernelspec": {
   "display_name": "Python 3 (ipykernel)",
   "language": "python",
   "name": "python3"
  },
  "language_info": {
   "codemirror_mode": {
    "name": "ipython",
    "version": 3
   },
   "file_extension": ".py",
   "mimetype": "text/x-python",
   "name": "python",
   "nbconvert_exporter": "python",
   "pygments_lexer": "ipython3",
   "version": "3.9.7"
  }
 },
 "nbformat": 4,
 "nbformat_minor": 5
}
