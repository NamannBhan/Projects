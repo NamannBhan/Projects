{
 "cells": [
  {
   "cell_type": "code",
   "execution_count": 1,
   "id": "50c018b8",
   "metadata": {},
   "outputs": [
    {
     "name": "stdout",
     "output_type": "stream",
     "text": [
      "WARNING:tensorflow:From C:\\Users\\naman\\OneDrive\\Documents\\Anaconda\\Lib\\site-packages\\keras\\src\\losses.py:2976: The name tf.losses.sparse_softmax_cross_entropy is deprecated. Please use tf.compat.v1.losses.sparse_softmax_cross_entropy instead.\n",
      "\n"
     ]
    }
   ],
   "source": [
    "import tensorflow as tf\n",
    "from tensorflow import keras"
   ]
  },
  {
   "cell_type": "code",
   "execution_count": 2,
   "id": "2749c76a",
   "metadata": {},
   "outputs": [],
   "source": [
    "train_path=r'C:\\Users\\naman\\OneDrive\\Documents\\Python_Projects\\ML\\Datasets\\Dataset\\Train'\n",
    "validation_path=r'C:\\Users\\naman\\OneDrive\\Documents\\Python_Projects\\ML\\Datasets\\Dataset\\Test'"
   ]
  },
  {
   "cell_type": "code",
   "execution_count": 3,
   "id": "408ed180",
   "metadata": {},
   "outputs": [],
   "source": [
    "image_size=[224,224]"
   ]
  },
  {
   "cell_type": "code",
   "execution_count": 4,
   "id": "d920e79f",
   "metadata": {},
   "outputs": [],
   "source": [
    "from keras.models import Sequential,Model\n",
    "from keras.preprocessing.image import ImageDataGenerator"
   ]
  },
  {
   "cell_type": "code",
   "execution_count": 5,
   "id": "e2ae2c35",
   "metadata": {},
   "outputs": [],
   "source": [
    "from keras.layers import Flatten,Dense"
   ]
  },
  {
   "cell_type": "code",
   "execution_count": 6,
   "id": "aaba8528",
   "metadata": {},
   "outputs": [],
   "source": [
    "from keras.applications import VGG16"
   ]
  },
  {
   "cell_type": "code",
   "execution_count": 7,
   "id": "e80ad741",
   "metadata": {},
   "outputs": [
    {
     "name": "stdout",
     "output_type": "stream",
     "text": [
      "WARNING:tensorflow:From C:\\Users\\naman\\OneDrive\\Documents\\Anaconda\\Lib\\site-packages\\keras\\src\\backend.py:1398: The name tf.executing_eagerly_outside_functions is deprecated. Please use tf.compat.v1.executing_eagerly_outside_functions instead.\n",
      "\n",
      "WARNING:tensorflow:From C:\\Users\\naman\\OneDrive\\Documents\\Anaconda\\Lib\\site-packages\\keras\\src\\layers\\pooling\\max_pooling2d.py:161: The name tf.nn.max_pool is deprecated. Please use tf.nn.max_pool2d instead.\n",
      "\n"
     ]
    }
   ],
   "source": [
    "vgg=VGG16(input_shape=image_size+[3],weights='imagenet',include_top=False)"
   ]
  },
  {
   "cell_type": "code",
   "execution_count": 8,
   "id": "a9d59d51",
   "metadata": {},
   "outputs": [],
   "source": [
    "for layer in vgg.layers:\n",
    "    layer.trainable=False"
   ]
  },
  {
   "cell_type": "code",
   "execution_count": 9,
   "id": "a489da12",
   "metadata": {},
   "outputs": [],
   "source": [
    "from glob import glob"
   ]
  },
  {
   "cell_type": "code",
   "execution_count": 10,
   "id": "a615ac4f",
   "metadata": {},
   "outputs": [],
   "source": [
    "folders=glob(r'C:\\Users\\naman\\OneDrive\\Documents\\Python_Projects\\ML\\Datasets\\Dataset\\Train\\*')"
   ]
  },
  {
   "cell_type": "code",
   "execution_count": 11,
   "id": "6a1cba82",
   "metadata": {},
   "outputs": [
    {
     "data": {
      "text/plain": [
       "2"
      ]
     },
     "execution_count": 11,
     "metadata": {},
     "output_type": "execute_result"
    }
   ],
   "source": [
    "len(folders)"
   ]
  },
  {
   "cell_type": "code",
   "execution_count": 12,
   "id": "7d6c50bc",
   "metadata": {},
   "outputs": [],
   "source": [
    "from keras.applications.vgg16 import preprocess_input"
   ]
  },
  {
   "cell_type": "code",
   "execution_count": 13,
   "id": "7e98ae9d",
   "metadata": {},
   "outputs": [
    {
     "name": "stdout",
     "output_type": "stream",
     "text": [
      "Model: \"model\"\n",
      "_________________________________________________________________\n",
      " Layer (type)                Output Shape              Param #   \n",
      "=================================================================\n",
      " input_1 (InputLayer)        [(None, 224, 224, 3)]     0         \n",
      "                                                                 \n",
      " block1_conv1 (Conv2D)       (None, 224, 224, 64)      1792      \n",
      "                                                                 \n",
      " block1_conv2 (Conv2D)       (None, 224, 224, 64)      36928     \n",
      "                                                                 \n",
      " block1_pool (MaxPooling2D)  (None, 112, 112, 64)      0         \n",
      "                                                                 \n",
      " block2_conv1 (Conv2D)       (None, 112, 112, 128)     73856     \n",
      "                                                                 \n",
      " block2_conv2 (Conv2D)       (None, 112, 112, 128)     147584    \n",
      "                                                                 \n",
      " block2_pool (MaxPooling2D)  (None, 56, 56, 128)       0         \n",
      "                                                                 \n",
      " block3_conv1 (Conv2D)       (None, 56, 56, 256)       295168    \n",
      "                                                                 \n",
      " block3_conv2 (Conv2D)       (None, 56, 56, 256)       590080    \n",
      "                                                                 \n",
      " block3_conv3 (Conv2D)       (None, 56, 56, 256)       590080    \n",
      "                                                                 \n",
      " block3_pool (MaxPooling2D)  (None, 28, 28, 256)       0         \n",
      "                                                                 \n",
      " block4_conv1 (Conv2D)       (None, 28, 28, 512)       1180160   \n",
      "                                                                 \n",
      " block4_conv2 (Conv2D)       (None, 28, 28, 512)       2359808   \n",
      "                                                                 \n",
      " block4_conv3 (Conv2D)       (None, 28, 28, 512)       2359808   \n",
      "                                                                 \n",
      " block4_pool (MaxPooling2D)  (None, 14, 14, 512)       0         \n",
      "                                                                 \n",
      " block5_conv1 (Conv2D)       (None, 14, 14, 512)       2359808   \n",
      "                                                                 \n",
      " block5_conv2 (Conv2D)       (None, 14, 14, 512)       2359808   \n",
      "                                                                 \n",
      " block5_conv3 (Conv2D)       (None, 14, 14, 512)       2359808   \n",
      "                                                                 \n",
      " block5_pool (MaxPooling2D)  (None, 7, 7, 512)         0         \n",
      "                                                                 \n",
      " flatten (Flatten)           (None, 25088)             0         \n",
      "                                                                 \n",
      " dense (Dense)               (None, 2)                 50178     \n",
      "                                                                 \n",
      "=================================================================\n",
      "Total params: 14764866 (56.32 MB)\n",
      "Trainable params: 50178 (196.01 KB)\n",
      "Non-trainable params: 14714688 (56.13 MB)\n",
      "_________________________________________________________________\n"
     ]
    }
   ],
   "source": [
    "x=Flatten()(vgg.output)\n",
    "prediction=Dense(len(folders),activation='softmax')(x)\n",
    "model=Model(inputs=vgg.input,outputs=prediction)\n",
    "model.summary()"
   ]
  },
  {
   "cell_type": "code",
   "execution_count": 14,
   "id": "fa8d820e",
   "metadata": {},
   "outputs": [],
   "source": [
    "from keras.layers import MaxPooling2D,BatchNormalization"
   ]
  },
  {
   "cell_type": "code",
   "execution_count": 15,
   "id": "f23d25fd",
   "metadata": {},
   "outputs": [],
   "source": [
    "classifier=keras.Sequential([\n",
    "    \n",
    "    keras.layers.Conv2D(filters=32,\n",
    "    kernel_size=2,\n",
    "    padding='same',\n",
    "    activation='relu',\n",
    "    input_shape=(224,224,3)),\n",
    "    \n",
    "    keras.layers.BatchNormalization(),\n",
    "    \n",
    "    keras.layers.MaxPooling2D(pool_size=2),\n",
    "    \n",
    "    keras.layers.Conv2D(filters=64,\n",
    "    kernel_size=2,\n",
    "    padding='same',\n",
    "    activation='relu'),\n",
    "    \n",
    "    keras.layers.BatchNormalization(),\n",
    "    \n",
    "    keras.layers.MaxPooling2D(pool_size=2),\n",
    "    \n",
    "    keras.layers.Conv2D(filters=128,\n",
    "    kernel_size=2,\n",
    "    padding='same',\n",
    "    activation='relu'),\n",
    "    \n",
    "    keras.layers.BatchNormalization(),\n",
    "    \n",
    "    keras.layers.MaxPooling2D(pool_size=2),\n",
    "    \n",
    "    keras.layers.Flatten(),\n",
    "    \n",
    "    keras.layers.Dense(units=500,activation='relu'),\n",
    "    \n",
    "    keras.layers.Dense(units=2,activation='softmax')\n",
    "    \n",
    "    ])"
   ]
  },
  {
   "cell_type": "code",
   "execution_count": 16,
   "id": "8c811f0c",
   "metadata": {},
   "outputs": [
    {
     "name": "stdout",
     "output_type": "stream",
     "text": [
      "Model: \"sequential\"\n",
      "_________________________________________________________________\n",
      " Layer (type)                Output Shape              Param #   \n",
      "=================================================================\n",
      " conv2d (Conv2D)             (None, 224, 224, 32)      416       \n",
      "                                                                 \n",
      " batch_normalization (Batch  (None, 224, 224, 32)      128       \n",
      " Normalization)                                                  \n",
      "                                                                 \n",
      " max_pooling2d (MaxPooling2  (None, 112, 112, 32)      0         \n",
      " D)                                                              \n",
      "                                                                 \n",
      " conv2d_1 (Conv2D)           (None, 112, 112, 64)      8256      \n",
      "                                                                 \n",
      " batch_normalization_1 (Bat  (None, 112, 112, 64)      256       \n",
      " chNormalization)                                                \n",
      "                                                                 \n",
      " max_pooling2d_1 (MaxPoolin  (None, 56, 56, 64)        0         \n",
      " g2D)                                                            \n",
      "                                                                 \n",
      " conv2d_2 (Conv2D)           (None, 56, 56, 128)       32896     \n",
      "                                                                 \n",
      " batch_normalization_2 (Bat  (None, 56, 56, 128)       512       \n",
      " chNormalization)                                                \n",
      "                                                                 \n",
      " max_pooling2d_2 (MaxPoolin  (None, 28, 28, 128)       0         \n",
      " g2D)                                                            \n",
      "                                                                 \n",
      " flatten_1 (Flatten)         (None, 100352)            0         \n",
      "                                                                 \n",
      " dense_1 (Dense)             (None, 500)               50176500  \n",
      "                                                                 \n",
      " dense_2 (Dense)             (None, 2)                 1002      \n",
      "                                                                 \n",
      "=================================================================\n",
      "Total params: 50219966 (191.57 MB)\n",
      "Trainable params: 50219518 (191.57 MB)\n",
      "Non-trainable params: 448 (1.75 KB)\n",
      "_________________________________________________________________\n"
     ]
    }
   ],
   "source": [
    "classifier.summary()"
   ]
  },
  {
   "cell_type": "code",
   "execution_count": 17,
   "id": "b2c4cf7b",
   "metadata": {},
   "outputs": [
    {
     "name": "stdout",
     "output_type": "stream",
     "text": [
      "WARNING:tensorflow:From C:\\Users\\naman\\OneDrive\\Documents\\Anaconda\\Lib\\site-packages\\keras\\src\\optimizers\\__init__.py:309: The name tf.train.Optimizer is deprecated. Please use tf.compat.v1.train.Optimizer instead.\n",
      "\n"
     ]
    }
   ],
   "source": [
    "classifier.compile(loss='categorical_crossentropy',optimizer='adam',metrics=['accuracy'])"
   ]
  },
  {
   "cell_type": "code",
   "execution_count": 18,
   "id": "d188435f",
   "metadata": {},
   "outputs": [],
   "source": [
    "train_datagen=ImageDataGenerator(preprocessing_function=preprocess_input,\n",
    "                                 rotation_range=40,\n",
    "                                width_shift_range=0.2,\n",
    "                                height_shift_range=0.2,\n",
    "                                shear_range=0.2,\n",
    "                                zoom_range=0.2,\n",
    "                                channel_shift_range=0.2,\n",
    "                                fill_mode='nearest',\n",
    "                                horizontal_flip=True)\n",
    "\n",
    "validation_datagen=ImageDataGenerator(preprocessing_function=preprocess_input,\n",
    "                                    rotation_range=40,\n",
    "                                    width_shift_range=0.2,\n",
    "                                    height_shift_range=0.2,\n",
    "                                    shear_range=0.2,\n",
    "                                    zoom_range=0.2,\n",
    "                                    channel_shift_range=0.2,\n",
    "                                    fill_mode='nearest',\n",
    "                                    horizontal_flip=True)"
   ]
  },
  {
   "cell_type": "code",
   "execution_count": 19,
   "id": "53b16da8",
   "metadata": {},
   "outputs": [
    {
     "name": "stdout",
     "output_type": "stream",
     "text": [
      "Found 416 images belonging to 2 classes.\n",
      "Found 134 images belonging to 2 classes.\n"
     ]
    }
   ],
   "source": [
    "train_ds=train_datagen.flow_from_directory(directory=train_path,\n",
    "                                           target_size=(224, 224),\n",
    "                                           class_mode='categorical',\n",
    "                                           batch_size=32)\n",
    "\n",
    "validation_ds=validation_datagen.flow_from_directory(directory=validation_path,\n",
    "                                                    target_size=(224,224),\n",
    "                                                    class_mode='categorical',\n",
    "                                                    batch_size=32)"
   ]
  },
  {
   "cell_type": "code",
   "execution_count": 20,
   "id": "b19a478f",
   "metadata": {},
   "outputs": [
    {
     "name": "stdout",
     "output_type": "stream",
     "text": [
      "Epoch 1/20\n",
      "WARNING:tensorflow:From C:\\Users\\naman\\OneDrive\\Documents\\Anaconda\\Lib\\site-packages\\keras\\src\\utils\\tf_utils.py:492: The name tf.ragged.RaggedTensorValue is deprecated. Please use tf.compat.v1.ragged.RaggedTensorValue instead.\n",
      "\n",
      "WARNING:tensorflow:From C:\\Users\\naman\\OneDrive\\Documents\\Anaconda\\Lib\\site-packages\\keras\\src\\engine\\base_layer_utils.py:384: The name tf.executing_eagerly_outside_functions is deprecated. Please use tf.compat.v1.executing_eagerly_outside_functions instead.\n",
      "\n",
      "13/13 [==============================] - 23s 2s/step - loss: 26.5931 - accuracy: 0.6034 - val_loss: 0.6506 - val_accuracy: 0.6791\n",
      "Epoch 2/20\n",
      "13/13 [==============================] - 18s 1s/step - loss: 0.7686 - accuracy: 0.6587 - val_loss: 0.6775 - val_accuracy: 0.6791\n",
      "Epoch 3/20\n",
      "13/13 [==============================] - 16s 1s/step - loss: 0.5664 - accuracy: 0.7115 - val_loss: 0.6102 - val_accuracy: 0.6791\n",
      "Epoch 4/20\n",
      "13/13 [==============================] - 16s 1s/step - loss: 0.5393 - accuracy: 0.7452 - val_loss: 0.6776 - val_accuracy: 0.6791\n",
      "Epoch 5/20\n",
      "13/13 [==============================] - 16s 1s/step - loss: 0.4469 - accuracy: 0.7861 - val_loss: 0.5936 - val_accuracy: 0.6791\n",
      "Epoch 6/20\n",
      "13/13 [==============================] - 16s 1s/step - loss: 0.6445 - accuracy: 0.8053 - val_loss: 0.5722 - val_accuracy: 0.6791\n",
      "Epoch 7/20\n",
      "13/13 [==============================] - 16s 1s/step - loss: 0.4848 - accuracy: 0.8029 - val_loss: 0.6365 - val_accuracy: 0.6791\n",
      "Epoch 8/20\n",
      "13/13 [==============================] - 16s 1s/step - loss: 0.5363 - accuracy: 0.8197 - val_loss: 0.8274 - val_accuracy: 0.6791\n",
      "Epoch 9/20\n",
      "13/13 [==============================] - 16s 1s/step - loss: 0.4656 - accuracy: 0.8077 - val_loss: 0.6213 - val_accuracy: 0.6493\n",
      "Epoch 10/20\n",
      "13/13 [==============================] - 16s 1s/step - loss: 0.3265 - accuracy: 0.8654 - val_loss: 0.6688 - val_accuracy: 0.6194\n",
      "Epoch 11/20\n",
      "13/13 [==============================] - 16s 1s/step - loss: 0.4458 - accuracy: 0.8149 - val_loss: 0.6409 - val_accuracy: 0.6493\n",
      "Epoch 12/20\n",
      "13/13 [==============================] - 16s 1s/step - loss: 0.3882 - accuracy: 0.8486 - val_loss: 1.0603 - val_accuracy: 0.4030\n",
      "Epoch 13/20\n",
      "13/13 [==============================] - 16s 1s/step - loss: 0.3902 - accuracy: 0.8197 - val_loss: 0.8954 - val_accuracy: 0.5522\n",
      "Epoch 14/20\n",
      "13/13 [==============================] - 16s 1s/step - loss: 0.3108 - accuracy: 0.8702 - val_loss: 0.8862 - val_accuracy: 0.4179\n",
      "Epoch 15/20\n",
      "13/13 [==============================] - 16s 1s/step - loss: 0.3030 - accuracy: 0.8702 - val_loss: 0.8556 - val_accuracy: 0.5075\n",
      "Epoch 16/20\n",
      "13/13 [==============================] - 16s 1s/step - loss: 0.3036 - accuracy: 0.8750 - val_loss: 1.1092 - val_accuracy: 0.4254\n",
      "Epoch 17/20\n",
      "13/13 [==============================] - 16s 1s/step - loss: 0.3008 - accuracy: 0.8702 - val_loss: 0.8526 - val_accuracy: 0.4776\n",
      "Epoch 18/20\n",
      "13/13 [==============================] - 16s 1s/step - loss: 0.2950 - accuracy: 0.8750 - val_loss: 1.2828 - val_accuracy: 0.5299\n",
      "Epoch 19/20\n",
      "13/13 [==============================] - 17s 1s/step - loss: 0.2583 - accuracy: 0.8654 - val_loss: 0.9966 - val_accuracy: 0.4925\n",
      "Epoch 20/20\n",
      "13/13 [==============================] - 16s 1s/step - loss: 0.2289 - accuracy: 0.9014 - val_loss: 1.1528 - val_accuracy: 0.4552\n"
     ]
    }
   ],
   "source": [
    "model_history=classifier.fit(train_ds,validation_data=validation_ds,epochs=20)"
   ]
  },
  {
   "cell_type": "code",
   "execution_count": 21,
   "id": "22813e29",
   "metadata": {},
   "outputs": [
    {
     "data": {
      "text/plain": [
       "dict_keys(['loss', 'accuracy', 'val_loss', 'val_accuracy'])"
      ]
     },
     "execution_count": 21,
     "metadata": {},
     "output_type": "execute_result"
    }
   ],
   "source": [
    "model_history.history.keys()"
   ]
  },
  {
   "cell_type": "code",
   "execution_count": 22,
   "id": "fdae8f73",
   "metadata": {},
   "outputs": [],
   "source": [
    "import matplotlib.pyplot as plt"
   ]
  },
  {
   "cell_type": "code",
   "execution_count": 23,
   "id": "4d32f142",
   "metadata": {},
   "outputs": [
    {
     "data": {
      "image/png": "[encoded data removed]",
      "text/plain": [
       "<Figure size 640x480 with 1 Axes>"
      ]
     },
     "metadata": {},
     "output_type": "display_data"
    }
   ],
   "source": [
    "plt.plot(model_history.history['loss'],label='training_loss')\n",
    "plt.plot(model_history.history['val_loss'],label='testing_loss')\n",
    "plt.legend()\n",
    "plt.show()"
   ]
  },
  {
   "cell_type": "code",
   "execution_count": 24,
   "id": "737ea740",
   "metadata": {},
   "outputs": [
    {
     "data": {
      "image/png": "[encoded data removed]",
      "text/plain": [
       "<Figure size 640x480 with 1 Axes>"
      ]
     },
     "metadata": {},
     "output_type": "display_data"
    }
   ],
   "source": [
    "plt.plot(model_history.history['accuracy'],label='training_acc')\n",
    "plt.plot(model_history.history['val_accuracy'],label='testing_acc')\n",
    "plt.legend()\n",
    "plt.show()"
   ]
  },
  {
   "cell_type": "code",
   "execution_count": 25,
   "id": "91e190c6",
   "metadata": {},
   "outputs": [],
   "source": [
    "from tensorflow.keras.models import load_model"
   ]
  },
  {
   "cell_type": "code",
   "execution_count": 26,
   "id": "e2f89a21",
   "metadata": {},
   "outputs": [
    {
     "name": "stderr",
     "output_type": "stream",
     "text": [
      "C:\\Users\\naman\\OneDrive\\Documents\\Anaconda\\Lib\\site-packages\\keras\\src\\engine\\training.py:3103: UserWarning: You are saving your model as an HDF5 file via `model.save()`. This file format is considered legacy. We recommend using instead the native Keras format, e.g. `model.save('my_model.keras')`.\n",
      "  saving_api.save_model(\n"
     ]
    }
   ],
   "source": [
    "classifier.save('model_vgg16.h5')"
   ]
  },
  {
   "cell_type": "code",
   "execution_count": 27,
   "id": "6f983158",
   "metadata": {},
   "outputs": [
    {
     "name": "stdout",
     "output_type": "stream",
     "text": [
      "5/5 [==============================] - 2s 341ms/step\n"
     ]
    }
   ],
   "source": [
    "y_pred=classifier.predict(validation_ds)"
   ]
  },
  {
   "cell_type": "code",
   "execution_count": 28,
   "id": "1727e942",
   "metadata": {},
   "outputs": [
    {
     "data": {
      "text/plain": [
       "array([[0.37031657, 0.6296835 ],\n",
       "       [0.05571725, 0.94428277],\n",
       "       [0.5466609 , 0.4533391 ],\n",
       "       [0.5073905 , 0.49260956],\n",
       "       [0.7508655 , 0.24913448],\n",
       "       [0.50120014, 0.4987998 ],\n",
       "       [0.13982803, 0.860172  ],\n",
       "       [0.43289533, 0.56710464],\n",
       "       [0.24705265, 0.7529474 ],\n",
       "       [0.5900374 , 0.40996253],\n",
       "       [0.26230475, 0.7376952 ],\n",
       "       [0.09494233, 0.9050576 ],\n",
       "       [0.05848225, 0.9415178 ],\n",
       "       [0.34937102, 0.650629  ],\n",
       "       [0.69533247, 0.30466753],\n",
       "       [0.5240409 , 0.47595915],\n",
       "       [0.8520868 , 0.14791319],\n",
       "       [0.7281223 , 0.27187774],\n",
       "       [0.40593734, 0.5940627 ],\n",
       "       [0.14064457, 0.8593554 ],\n",
       "       [0.50120014, 0.4987998 ],\n",
       "       [0.13866858, 0.8613314 ],\n",
       "       [0.70644355, 0.29355645],\n",
       "       [0.3320224 , 0.6679776 ],\n",
       "       [0.07191737, 0.9280826 ],\n",
       "       [0.5834216 , 0.41657847],\n",
       "       [0.39110604, 0.608894  ],\n",
       "       [0.48580447, 0.5141955 ],\n",
       "       [0.5218434 , 0.47815666],\n",
       "       [0.5290171 , 0.47098297],\n",
       "       [0.6238576 , 0.3761424 ],\n",
       "       [0.38456187, 0.6154381 ],\n",
       "       [0.32504073, 0.67495924],\n",
       "       [0.7938248 , 0.20617515],\n",
       "       [0.5180373 , 0.4819627 ],\n",
       "       [0.57560587, 0.4243942 ],\n",
       "       [0.46447104, 0.53552896],\n",
       "       [0.6786485 , 0.32135156],\n",
       "       [0.10090783, 0.89909214],\n",
       "       [0.50120014, 0.4987998 ],\n",
       "       [0.17282344, 0.8271765 ],\n",
       "       [0.71903664, 0.2809634 ],\n",
       "       [0.2977408 , 0.7022592 ],\n",
       "       [0.7985414 , 0.2014586 ],\n",
       "       [0.09309511, 0.9069049 ],\n",
       "       [0.6158116 , 0.38418844],\n",
       "       [0.07703631, 0.9229636 ],\n",
       "       [0.8091764 , 0.19082355],\n",
       "       [0.91869295, 0.08130704],\n",
       "       [0.09506345, 0.90493655],\n",
       "       [0.33064225, 0.6693577 ],\n",
       "       [0.27875036, 0.72124964],\n",
       "       [0.18286234, 0.81713766],\n",
       "       [0.05176379, 0.9482362 ],\n",
       "       [0.6097277 , 0.39027226],\n",
       "       [0.334929  , 0.66507095],\n",
       "       [0.1008734 , 0.8991265 ],\n",
       "       [0.16416824, 0.83583176],\n",
       "       [0.50120014, 0.4987998 ],\n",
       "       [0.1802508 , 0.8197492 ],\n",
       "       [0.8158494 , 0.18415052],\n",
       "       [0.9872925 , 0.01270746],\n",
       "       [0.07706188, 0.92293817],\n",
       "       [0.77466935, 0.22533062],\n",
       "       [0.09514488, 0.90485513],\n",
       "       [0.34643877, 0.65356123],\n",
       "       [0.17071031, 0.82928973],\n",
       "       [0.71543646, 0.2845635 ],\n",
       "       [0.8832493 , 0.11675069],\n",
       "       [0.14497814, 0.8550219 ],\n",
       "       [0.14433257, 0.8556675 ],\n",
       "       [0.74939513, 0.25060487],\n",
       "       [0.26348656, 0.73651344],\n",
       "       [0.661591  , 0.338409  ],\n",
       "       [0.55859196, 0.441408  ],\n",
       "       [0.12264062, 0.87735933],\n",
       "       [0.95235115, 0.0476489 ],\n",
       "       [0.10513683, 0.8948631 ],\n",
       "       [0.479872  , 0.520128  ],\n",
       "       [0.39858276, 0.60141724],\n",
       "       [0.2916889 , 0.70831114],\n",
       "       [0.786359  , 0.21364102],\n",
       "       [0.18534397, 0.8146561 ],\n",
       "       [0.9266647 , 0.07333531],\n",
       "       [0.1963002 , 0.8036998 ],\n",
       "       [0.9678534 , 0.03214663],\n",
       "       [0.47679493, 0.52320504],\n",
       "       [0.29310206, 0.7068979 ],\n",
       "       [0.2183813 , 0.7816187 ],\n",
       "       [0.58072084, 0.41927922],\n",
       "       [0.11991163, 0.8800884 ],\n",
       "       [0.509343  , 0.490657  ],\n",
       "       [0.8788039 , 0.12119611],\n",
       "       [0.6013238 , 0.39867622],\n",
       "       [0.02345246, 0.97654754],\n",
       "       [0.67739654, 0.32260346],\n",
       "       [0.05211404, 0.947886  ],\n",
       "       [0.97890854, 0.02109141],\n",
       "       [0.49807388, 0.5019262 ],\n",
       "       [0.1820611 , 0.8179389 ],\n",
       "       [0.11656691, 0.8834331 ],\n",
       "       [0.14855547, 0.85144454],\n",
       "       [0.13924466, 0.8607553 ],\n",
       "       [0.15350543, 0.84649456],\n",
       "       [0.8018215 , 0.19817859],\n",
       "       [0.5002166 , 0.4997834 ],\n",
       "       [0.4263758 , 0.5736242 ],\n",
       "       [0.4207108 , 0.57928926],\n",
       "       [0.5448045 , 0.4551955 ],\n",
       "       [0.29491758, 0.7050824 ],\n",
       "       [0.02911562, 0.9708844 ],\n",
       "       [0.9756236 , 0.02437633],\n",
       "       [0.9315662 , 0.06843388],\n",
       "       [0.02432183, 0.9756782 ],\n",
       "       [0.64388776, 0.35611233],\n",
       "       [0.9062264 , 0.09377354],\n",
       "       [0.06927062, 0.9307294 ],\n",
       "       [0.85993993, 0.14006013],\n",
       "       [0.5232048 , 0.4767952 ],\n",
       "       [0.5949832 , 0.40501672],\n",
       "       [0.151571  , 0.848429  ],\n",
       "       [0.22099222, 0.7790078 ],\n",
       "       [0.11382739, 0.8861726 ],\n",
       "       [0.03716664, 0.9628334 ],\n",
       "       [0.8554509 , 0.14454909],\n",
       "       [0.07908276, 0.9209172 ],\n",
       "       [0.5455331 , 0.45446694],\n",
       "       [0.09390053, 0.90609944],\n",
       "       [0.39481944, 0.6051806 ],\n",
       "       [0.65181583, 0.34818423],\n",
       "       [0.87837887, 0.12162108],\n",
       "       [0.54243845, 0.45756158],\n",
       "       [0.4122466 , 0.5877534 ],\n",
       "       [0.22733927, 0.7726607 ]], dtype=float32)"
      ]
     },
     "execution_count": 28,
     "metadata": {},
     "output_type": "execute_result"
    }
   ],
   "source": [
    "y_pred"
   ]
  },
  {
   "cell_type": "code",
   "execution_count": 29,
   "id": "bb4ea414",
   "metadata": {},
   "outputs": [],
   "source": [
    "import numpy as np"
   ]
  },
  {
   "cell_type": "code",
   "execution_count": 30,
   "id": "53e6376b",
   "metadata": {},
   "outputs": [],
   "source": [
    "y_pred=np.argmax(y_pred,axis=1)#get the highest index from y_pred(whichever is highest is parasite(0-infected,1-not infected))"
   ]
  },
  {
   "cell_type": "code",
   "execution_count": 31,
   "id": "cc3ac7be",
   "metadata": {},
   "outputs": [
    {
     "data": {
      "text/plain": [
       "array([1, 1, 0, 0, 0, 0, 1, 1, 1, 0, 1, 1, 1, 1, 0, 0, 0, 0, 1, 1, 0, 1,\n",
       "       0, 1, 1, 0, 1, 1, 0, 0, 0, 1, 1, 0, 0, 0, 1, 0, 1, 0, 1, 0, 1, 0,\n",
       "       1, 0, 1, 0, 0, 1, 1, 1, 1, 1, 0, 1, 1, 1, 0, 1, 0, 0, 1, 0, 1, 1,\n",
       "       1, 0, 0, 1, 1, 0, 1, 0, 0, 1, 0, 1, 1, 1, 1, 0, 1, 0, 1, 0, 1, 1,\n",
       "       1, 0, 1, 0, 0, 0, 1, 0, 1, 0, 1, 1, 1, 1, 1, 1, 0, 0, 1, 1, 0, 1,\n",
       "       1, 0, 0, 1, 0, 0, 1, 0, 0, 0, 1, 1, 1, 1, 0, 1, 0, 1, 1, 0, 0, 0,\n",
       "       1, 1], dtype=int64)"
      ]
     },
     "execution_count": 31,
     "metadata": {},
     "output_type": "execute_result"
    }
   ],
   "source": [
    "y_pred"
   ]
  },
  {
   "cell_type": "code",
   "execution_count": 32,
   "id": "f6b67b59",
   "metadata": {},
   "outputs": [],
   "source": [
    "from tensorflow.keras.models import load_model\n",
    "from tensorflow.keras.preprocessing import image"
   ]
  },
  {
   "cell_type": "code",
   "execution_count": 33,
   "id": "c5bb9069",
   "metadata": {},
   "outputs": [],
   "source": [
    "model=load_model('model_vgg16.h5')"
   ]
  },
  {
   "cell_type": "code",
   "execution_count": 34,
   "id": "84c136b6",
   "metadata": {},
   "outputs": [],
   "source": [
    "uninfected_img=image.load_img(r'C:\\Users\\naman\\OneDrive\\Documents\\Python_Projects\\ML\\Datasets\\Dataset\\Train\\Uninfected\\C1_thinF_IMG_20150604_104722_cell_164.png',target_size=(224,224))"
   ]
  },
  {
   "cell_type": "code",
   "execution_count": 35,
   "id": "0c988fe3",
   "metadata": {},
   "outputs": [],
   "source": [
    "parasite_img=image.load_img(r'C:\\Users\\naman\\OneDrive\\Documents\\Python_Projects\\ML\\Datasets\\Dataset\\Train\\Parasite\\C33P1thinF_IMG_20150619_121229a_cell_179.png',target_size=(224,224))"
   ]
  },
  {
   "cell_type": "code",
   "execution_count": 44,
   "id": "0be573e3",
   "metadata": {},
   "outputs": [],
   "source": [
    "x=image.img_to_array(parasite_img)"
   ]
  },
  {
   "cell_type": "code",
   "execution_count": 45,
   "id": "56cbd268",
   "metadata": {},
   "outputs": [],
   "source": [
    "x=x/255"
   ]
  },
  {
   "cell_type": "code",
   "execution_count": 46,
   "id": "a7811a40",
   "metadata": {},
   "outputs": [],
   "source": [
    "from tensorflow.keras.applications.vgg16 import preprocess_input"
   ]
  },
  {
   "cell_type": "code",
   "execution_count": 47,
   "id": "1d0b7b51",
   "metadata": {},
   "outputs": [
    {
     "data": {
      "text/plain": [
       "(224, 224, 3)"
      ]
     },
     "execution_count": 47,
     "metadata": {},
     "output_type": "execute_result"
    }
   ],
   "source": [
    "x.shape"
   ]
  },
  {
   "cell_type": "code",
   "execution_count": 48,
   "id": "f5afce5f",
   "metadata": {},
   "outputs": [
    {
     "data": {
      "text/plain": [
       "(1, 224, 224, 3)"
      ]
     },
     "execution_count": 48,
     "metadata": {},
     "output_type": "execute_result"
    }
   ],
   "source": [
    "x=np.expand_dims(x,axis=0)\n",
    "img_data=preprocess_input(x)\n",
    "img_data.shape"
   ]
  },
  {
   "cell_type": "code",
   "execution_count": 49,
   "id": "5649aabe",
   "metadata": {},
   "outputs": [
    {
     "name": "stdout",
     "output_type": "stream",
     "text": [
      "1/1 [==============================] - 0s 32ms/step\n"
     ]
    },
    {
     "data": {
      "text/plain": [
       "array([[0.00453543, 0.9954646 ]], dtype=float32)"
      ]
     },
     "execution_count": 49,
     "metadata": {},
     "output_type": "execute_result"
    }
   ],
   "source": [
    "model.predict(img_data)"
   ]
  },
  {
   "cell_type": "code",
   "execution_count": 50,
   "id": "fb5e8a3e",
   "metadata": {},
   "outputs": [],
   "source": [
    "categories=['Parasite','Uninfected']"
   ]
  },
  {
   "cell_type": "code",
   "execution_count": 51,
   "id": "b5e98961",
   "metadata": {},
   "outputs": [
    {
     "name": "stdout",
     "output_type": "stream",
     "text": [
      "1/1 [==============================] - 0s 32ms/step\n"
     ]
    },
    {
     "data": {
      "text/plain": [
       "'Uninfected'"
      ]
     },
     "execution_count": 51,
     "metadata": {},
     "output_type": "execute_result"
    }
   ],
   "source": [
    "pred_name=categories[np.argmax(model.predict(img_data))]\n",
    "pred_name"
   ]
  },
  {
   "cell_type": "code",
   "execution_count": null,
   "id": "2b142665",
   "metadata": {},
   "outputs": [],
   "source": []
  }
 ],
 "metadata": {
  "kernelspec": {
   "display_name": "Python 3 (ipykernel)",
   "language": "python",
   "name": "python3"
  },
  "language_info": {
   "codemirror_mode": {
    "name": "ipython",
    "version": 3
   },
   "file_extension": ".py",
   "mimetype": "text/x-python",
   "name": "python",
   "nbconvert_exporter": "python",
   "pygments_lexer": "ipython3",
   "version": "3.11.5"
  }
 },
 "nbformat": 4,
 "nbformat_minor": 5
}
