{
  "cells": [
    {
      "cell_type": "code",
      "execution_count": 31,
      "metadata": {
        "id": "bs5cBlLfAbNf"
      },
      "outputs": [],
      "source": [
        "import numpy as np\n",
        "import pandas as pd\n",
        "import matplotlib.pyplot as plt\n",
        "import yfinance as yf"
      ]
    },
    {
      "cell_type": "code",
      "execution_count": 32,
      "metadata": {
        "id": "_2kfAeqOAbNg"
      },
      "outputs": [],
      "source": [
        "tickers = [\n",
        "    'TLT',  # US Government Bonds (iShares 20+ Year Treasury Bond ETF)\n",
        "    'MBB',  # US Mortgages ETF\n",
        "    'IWN',  # U.S. Small-Cap Value Equities (iShares Russell 2000 ETF)\n",
        "    'IWO',  # U.S. Small-Cap Growth Equities (iShares Russell 2000 ETF)\n",
        "    'IWD',  # U.S. Large-Cap Value (iShares Russell 1000 Value ETF)\n",
        "    'MCHI',  # Chinese Equities(ishares MSCI)\n",
        "    'INDY',  # Indian Equities (NIFTY Index)\n",
        "    'XLV',  # Healthcare (Health Care Select Sector SPDR Fund)\n",
        "    'XLE',  # Energy (Energy Select Sector SPDR Fund)\n",
        "    'XLY',  # Consumer Discretionary (Consumer Discretionary Select Sector SPDR Fund)\n",
        "    'XLF',  # Financials (Financials Select Sector SPDR Fund)\n",
        "]"
      ]
    },
    {
      "cell_type": "code",
      "execution_count": 35,
      "metadata": {
        "colab": {
          "base_uri": "https://localhost:8080/",
          "height": 255
        },
        "id": "ghoX_hFkAbNg",
        "outputId": "cba17240-f021-4c85-e8f5-6cd3d821878b"
      },
      "outputs": [
        {
          "name": "stderr",
          "output_type": "stream",
          "text": [
            "[*********************100%***********************]  11 of 11 completed\n"
          ]
        },
        {
          "data": {
            "application/vnd.google.colaboratory.intrinsic+json": {
              "summary": "{\n  \"name\": \"prices\",\n  \"rows\": 5,\n  \"fields\": [\n    {\n      \"column\": \"Date\",\n      \"properties\": {\n        \"dtype\": \"date\",\n        \"min\": \"2025-02-14 00:00:00\",\n        \"max\": \"2025-02-21 00:00:00\",\n        \"num_unique_values\": 5,\n        \"samples\": [\n          \"2025-02-18 00:00:00\",\n          \"2025-02-21 00:00:00\",\n          \"2025-02-19 00:00:00\"\n        ],\n        \"semantic_type\": \"\",\n        \"description\": \"\"\n      }\n    },\n    {\n      \"column\": \"INDY\",\n      \"properties\": {\n        \"dtype\": \"number\",\n        \"std\": 0.28106855855598295,\n        \"min\": 48.540000915527344,\n        \"max\": 49.279998779296875,\n        \"num_unique_values\": 5,\n        \"samples\": [\n          49.119998931884766,\n          48.540000915527344,\n          49.060001373291016\n        ],\n        \"semantic_type\": \"\",\n        \"description\": \"\"\n      }\n    },\n    {\n      \"column\": \"IWD\",\n      \"properties\": {\n        \"dtype\": \"number\",\n        \"std\": 1.3843788632669698,\n        \"min\": 192.63999938964844,\n        \"max\": 196.2100067138672,\n        \"num_unique_values\": 5,\n        \"samples\": [\n          195.6199951171875,\n          192.63999938964844,\n          196.2100067138672\n        ],\n        \"semantic_type\": \"\",\n        \"description\": \"\"\n      }\n    },\n    {\n      \"column\": \"IWN\",\n      \"properties\": {\n        \"dtype\": \"number\",\n        \"std\": 2.377506752755504,\n        \"min\": 162.22999572753906,\n        \"max\": 168.1699981689453,\n        \"num_unique_values\": 5,\n        \"samples\": [\n          168.1699981689453,\n          162.22999572753906,\n          167.32000732421875\n        ],\n        \"semantic_type\": \"\",\n        \"description\": \"\"\n      }\n    },\n    {\n      \"column\": \"IWO\",\n      \"properties\": {\n        \"dtype\": \"number\",\n        \"std\": 5.802554202966057,\n        \"min\": 283.19000244140625,\n        \"max\": 297.30999755859375,\n        \"num_unique_values\": 5,\n        \"samples\": [\n          297.30999755859375,\n          283.19000244140625,\n          296.6199951171875\n        ],\n        \"semantic_type\": \"\",\n        \"description\": \"\"\n      }\n    },\n    {\n      \"column\": \"MBB\",\n      \"properties\": {\n        \"dtype\": \"number\",\n        \"std\": 0.3373446229882648,\n        \"min\": 91.98999786376953,\n        \"max\": 92.87000274658203,\n        \"num_unique_values\": 5,\n        \"samples\": [\n          91.98999786376953,\n          92.87000274658203,\n          92.12999725341797\n        ],\n        \"semantic_type\": \"\",\n        \"description\": \"\"\n      }\n    },\n    {\n      \"column\": \"MCHI\",\n      \"properties\": {\n        \"dtype\": \"number\",\n        \"std\": 0.9308493365560235,\n        \"min\": 53.459999084472656,\n        \"max\": 55.77000045776367,\n        \"num_unique_values\": 5,\n        \"samples\": [\n          53.9900016784668,\n          55.77000045776367,\n          53.72999954223633\n        ],\n        \"semantic_type\": \"\",\n        \"description\": \"\"\n      }\n    },\n    {\n      \"column\": \"TLT\",\n      \"properties\": {\n        \"dtype\": \"number\",\n        \"std\": 0.6430172805968662,\n        \"min\": 88.0999984741211,\n        \"max\": 89.61000061035156,\n        \"num_unique_values\": 5,\n        \"samples\": [\n          88.0999984741211,\n          89.61000061035156,\n          88.20999908447266\n        ],\n        \"semantic_type\": \"\",\n        \"description\": \"\"\n      }\n    },\n    {\n      \"column\": \"XLE\",\n      \"properties\": {\n        \"dtype\": \"number\",\n        \"std\": 1.0617576833049236,\n        \"min\": 90.06999969482422,\n        \"max\": 92.86000061035156,\n        \"num_unique_values\": 5,\n        \"samples\": [\n          91.30000305175781,\n          90.93000030517578,\n          92.0199966430664\n        ],\n        \"semantic_type\": \"\",\n        \"description\": \"\"\n      }\n    },\n    {\n      \"column\": \"XLF\",\n      \"properties\": {\n        \"dtype\": \"number\",\n        \"std\": 0.6044825871364164,\n        \"min\": 50.75,\n        \"max\": 52.189998626708984,\n        \"num_unique_values\": 5,\n        \"samples\": [\n          52.16999816894531,\n          50.75,\n          52.189998626708984\n        ],\n        \"semantic_type\": \"\",\n        \"description\": \"\"\n      }\n    },\n    {\n      \"column\": \"XLV\",\n      \"properties\": {\n        \"dtype\": \"number\",\n        \"std\": 1.1602037101106761,\n        \"min\": 144.52000427246094,\n        \"max\": 147.22000122070312,\n        \"num_unique_values\": 5,\n        \"samples\": [\n          144.52000427246094,\n          146.42999267578125,\n          146.39999389648438\n        ],\n        \"semantic_type\": \"\",\n        \"description\": \"\"\n      }\n    },\n    {\n      \"column\": \"XLY\",\n      \"properties\": {\n        \"dtype\": \"number\",\n        \"std\": 3.540546941114399,\n        \"min\": 218.38999938964844,\n        \"max\": 227.0,\n        \"num_unique_values\": 5,\n        \"samples\": [\n          226.3699951171875,\n          218.38999938964844,\n          226.24000549316406\n        ],\n        \"semantic_type\": \"\",\n        \"description\": \"\"\n      }\n    }\n  ]\n}",
              "type": "dataframe"
            },
            "text/html": [
              "\n",
              "  <div id=\"df-a05bf37d-826d-47c6-a6b3-e639041bb8e9\" class=\"colab-df-container\">\n",
              "    <div>\n",
              "<style scoped>\n",
              "    .dataframe tbody tr th:only-of-type {\n",
              "        vertical-align: middle;\n",
              "    }\n",
              "\n",
              "    .dataframe tbody tr th {\n",
              "        vertical-align: top;\n",
              "    }\n",
              "\n",
              "    .dataframe thead th {\n",
              "        text-align: right;\n",
              "    }\n",
              "</style>\n",
              "<table border=\"1\" class=\"dataframe\">\n",
              "  <thead>\n",
              "    <tr style=\"text-align: right;\">\n",
              "      <th>Ticker</th>\n",
              "      <th>INDY</th>\n",
              "      <th>IWD</th>\n",
              "      <th>IWN</th>\n",
              "      <th>IWO</th>\n",
              "      <th>MBB</th>\n",
              "      <th>MCHI</th>\n",
              "      <th>TLT</th>\n",
              "      <th>XLE</th>\n",
              "      <th>XLF</th>\n",
              "      <th>XLV</th>\n",
              "      <th>XLY</th>\n",
              "    </tr>\n",
              "    <tr>\n",
              "      <th>Date</th>\n",
              "      <th></th>\n",
              "      <th></th>\n",
              "      <th></th>\n",
              "      <th></th>\n",
              "      <th></th>\n",
              "      <th></th>\n",
              "      <th></th>\n",
              "      <th></th>\n",
              "      <th></th>\n",
              "      <th></th>\n",
              "      <th></th>\n",
              "    </tr>\n",
              "  </thead>\n",
              "  <tbody>\n",
              "    <tr>\n",
              "      <th>2025-02-14</th>\n",
              "      <td>49.099998</td>\n",
              "      <td>194.479996</td>\n",
              "      <td>167.479996</td>\n",
              "      <td>295.570007</td>\n",
              "      <td>92.430000</td>\n",
              "      <td>53.459999</td>\n",
              "      <td>89.150002</td>\n",
              "      <td>90.070000</td>\n",
              "      <td>51.799999</td>\n",
              "      <td>144.800003</td>\n",
              "      <td>227.000000</td>\n",
              "    </tr>\n",
              "    <tr>\n",
              "      <th>2025-02-18</th>\n",
              "      <td>49.119999</td>\n",
              "      <td>195.619995</td>\n",
              "      <td>168.169998</td>\n",
              "      <td>297.309998</td>\n",
              "      <td>91.989998</td>\n",
              "      <td>53.990002</td>\n",
              "      <td>88.099998</td>\n",
              "      <td>91.300003</td>\n",
              "      <td>52.169998</td>\n",
              "      <td>144.520004</td>\n",
              "      <td>226.369995</td>\n",
              "    </tr>\n",
              "    <tr>\n",
              "      <th>2025-02-19</th>\n",
              "      <td>49.060001</td>\n",
              "      <td>196.210007</td>\n",
              "      <td>167.320007</td>\n",
              "      <td>296.619995</td>\n",
              "      <td>92.129997</td>\n",
              "      <td>53.730000</td>\n",
              "      <td>88.209999</td>\n",
              "      <td>92.019997</td>\n",
              "      <td>52.189999</td>\n",
              "      <td>146.399994</td>\n",
              "      <td>226.240005</td>\n",
              "    </tr>\n",
              "    <tr>\n",
              "      <th>2025-02-20</th>\n",
              "      <td>49.279999</td>\n",
              "      <td>195.300003</td>\n",
              "      <td>165.919998</td>\n",
              "      <td>293.760010</td>\n",
              "      <td>92.379997</td>\n",
              "      <td>54.730000</td>\n",
              "      <td>88.540001</td>\n",
              "      <td>92.860001</td>\n",
              "      <td>51.389999</td>\n",
              "      <td>147.220001</td>\n",
              "      <td>224.289993</td>\n",
              "    </tr>\n",
              "    <tr>\n",
              "      <th>2025-02-21</th>\n",
              "      <td>48.540001</td>\n",
              "      <td>192.639999</td>\n",
              "      <td>162.229996</td>\n",
              "      <td>283.190002</td>\n",
              "      <td>92.870003</td>\n",
              "      <td>55.770000</td>\n",
              "      <td>89.610001</td>\n",
              "      <td>90.930000</td>\n",
              "      <td>50.750000</td>\n",
              "      <td>146.429993</td>\n",
              "      <td>218.389999</td>\n",
              "    </tr>\n",
              "  </tbody>\n",
              "</table>\n",
              "</div>\n",
              "    <div class=\"colab-df-buttons\">\n",
              "\n",
              "  <div class=\"colab-df-container\">\n",
              "    <button class=\"colab-df-convert\" onclick=\"convertToInteractive('df-a05bf37d-826d-47c6-a6b3-e639041bb8e9')\"\n",
              "            title=\"Convert this dataframe to an interactive table.\"\n",
              "            style=\"display:none;\">\n",
              "\n",
              "  <svg xmlns=\"http://www.w3.org/2000/svg\" height=\"24px\" viewBox=\"0 -960 960 960\">\n",
              "    <path d=\"M120-120v-720h720v720H120Zm60-500h600v-160H180v160Zm220 220h160v-160H400v160Zm0 220h160v-160H400v160ZM180-400h160v-160H180v160Zm440 0h160v-160H620v160ZM180-180h160v-160H180v160Zm440 0h160v-160H620v160Z\"/>\n",
              "  </svg>\n",
              "    </button>\n",
              "\n",
              "  <style>\n",
              "    .colab-df-container {\n",
              "      display:flex;\n",
              "      gap: 12px;\n",
              "    }\n",
              "\n",
              "    .colab-df-convert {\n",
              "      background-color: #E8F0FE;\n",
              "      border: none;\n",
              "      border-radius: 50%;\n",
              "      cursor: pointer;\n",
              "      display: none;\n",
              "      fill: #1967D2;\n",
              "      height: 32px;\n",
              "      padding: 0 0 0 0;\n",
              "      width: 32px;\n",
              "    }\n",
              "\n",
              "    .colab-df-convert:hover {\n",
              "      background-color: #E2EBFA;\n",
              "      box-shadow: 0px 1px 2px rgba(60, 64, 67, 0.3), 0px 1px 3px 1px rgba(60, 64, 67, 0.15);\n",
              "      fill: #174EA6;\n",
              "    }\n",
              "\n",
              "    .colab-df-buttons div {\n",
              "      margin-bottom: 4px;\n",
              "    }\n",
              "\n",
              "    [theme=dark] .colab-df-convert {\n",
              "      background-color: #3B4455;\n",
              "      fill: #D2E3FC;\n",
              "    }\n",
              "\n",
              "    [theme=dark] .colab-df-convert:hover {\n",
              "      background-color: #434B5C;\n",
              "      box-shadow: 0px 1px 3px 1px rgba(0, 0, 0, 0.15);\n",
              "      filter: drop-shadow(0px 1px 2px rgba(0, 0, 0, 0.3));\n",
              "      fill: #FFFFFF;\n",
              "    }\n",
              "  </style>\n",
              "\n",
              "    <script>\n",
              "      const buttonEl =\n",
              "        document.querySelector('#df-a05bf37d-826d-47c6-a6b3-e639041bb8e9 button.colab-df-convert');\n",
              "      buttonEl.style.display =\n",
              "        google.colab.kernel.accessAllowed ? 'block' : 'none';\n",
              "\n",
              "      async function convertToInteractive(key) {\n",
              "        const element = document.querySelector('#df-a05bf37d-826d-47c6-a6b3-e639041bb8e9');\n",
              "        const dataTable =\n",
              "          await google.colab.kernel.invokeFunction('convertToInteractive',\n",
              "                                                    [key], {});\n",
              "        if (!dataTable) return;\n",
              "\n",
              "        const docLinkHtml = 'Like what you see? Visit the ' +\n",
              "          '<a target=\"_blank\" href=https://colab.research.google.com/notebooks/data_table.ipynb>data table notebook</a>'\n",
              "          + ' to learn more about interactive tables.';\n",
              "        element.innerHTML = '';\n",
              "        dataTable['output_type'] = 'display_data';\n",
              "        await google.colab.output.renderOutput(dataTable, element);\n",
              "        const docLink = document.createElement('div');\n",
              "        docLink.innerHTML = docLinkHtml;\n",
              "        element.appendChild(docLink);\n",
              "      }\n",
              "    </script>\n",
              "  </div>\n",
              "\n",
              "\n",
              "<div id=\"df-1437f112-3bb7-48ae-8337-417f148cfd5e\">\n",
              "  <button class=\"colab-df-quickchart\" onclick=\"quickchart('df-1437f112-3bb7-48ae-8337-417f148cfd5e')\"\n",
              "            title=\"Suggest charts\"\n",
              "            style=\"display:none;\">\n",
              "\n",
              "<svg xmlns=\"http://www.w3.org/2000/svg\" height=\"24px\"viewBox=\"0 0 24 24\"\n",
              "     width=\"24px\">\n",
              "    <g>\n",
              "        <path d=\"M19 3H5c-1.1 0-2 .9-2 2v14c0 1.1.9 2 2 2h14c1.1 0 2-.9 2-2V5c0-1.1-.9-2-2-2zM9 17H7v-7h2v7zm4 0h-2V7h2v10zm4 0h-2v-4h2v4z\"/>\n",
              "    </g>\n",
              "</svg>\n",
              "  </button>\n",
              "\n",
              "<style>\n",
              "  .colab-df-quickchart {\n",
              "      --bg-color: #E8F0FE;\n",
              "      --fill-color: #1967D2;\n",
              "      --hover-bg-color: #E2EBFA;\n",
              "      --hover-fill-color: #174EA6;\n",
              "      --disabled-fill-color: #AAA;\n",
              "      --disabled-bg-color: #DDD;\n",
              "  }\n",
              "\n",
              "  [theme=dark] .colab-df-quickchart {\n",
              "      --bg-color: #3B4455;\n",
              "      --fill-color: #D2E3FC;\n",
              "      --hover-bg-color: #434B5C;\n",
              "      --hover-fill-color: #FFFFFF;\n",
              "      --disabled-bg-color: #3B4455;\n",
              "      --disabled-fill-color: #666;\n",
              "  }\n",
              "\n",
              "  .colab-df-quickchart {\n",
              "    background-color: var(--bg-color);\n",
              "    border: none;\n",
              "    border-radius: 50%;\n",
              "    cursor: pointer;\n",
              "    display: none;\n",
              "    fill: var(--fill-color);\n",
              "    height: 32px;\n",
              "    padding: 0;\n",
              "    width: 32px;\n",
              "  }\n",
              "\n",
              "  .colab-df-quickchart:hover {\n",
              "    background-color: var(--hover-bg-color);\n",
              "    box-shadow: 0 1px 2px rgba(60, 64, 67, 0.3), 0 1px 3px 1px rgba(60, 64, 67, 0.15);\n",
              "    fill: var(--button-hover-fill-color);\n",
              "  }\n",
              "\n",
              "  .colab-df-quickchart-complete:disabled,\n",
              "  .colab-df-quickchart-complete:disabled:hover {\n",
              "    background-color: var(--disabled-bg-color);\n",
              "    fill: var(--disabled-fill-color);\n",
              "    box-shadow: none;\n",
              "  }\n",
              "\n",
              "  .colab-df-spinner {\n",
              "    border: 2px solid var(--fill-color);\n",
              "    border-color: transparent;\n",
              "    border-bottom-color: var(--fill-color);\n",
              "    animation:\n",
              "      spin 1s steps(1) infinite;\n",
              "  }\n",
              "\n",
              "  @keyframes spin {\n",
              "    0% {\n",
              "      border-color: transparent;\n",
              "      border-bottom-color: var(--fill-color);\n",
              "      border-left-color: var(--fill-color);\n",
              "    }\n",
              "    20% {\n",
              "      border-color: transparent;\n",
              "      border-left-color: var(--fill-color);\n",
              "      border-top-color: var(--fill-color);\n",
              "    }\n",
              "    30% {\n",
              "      border-color: transparent;\n",
              "      border-left-color: var(--fill-color);\n",
              "      border-top-color: var(--fill-color);\n",
              "      border-right-color: var(--fill-color);\n",
              "    }\n",
              "    40% {\n",
              "      border-color: transparent;\n",
              "      border-right-color: var(--fill-color);\n",
              "      border-top-color: var(--fill-color);\n",
              "    }\n",
              "    60% {\n",
              "      border-color: transparent;\n",
              "      border-right-color: var(--fill-color);\n",
              "    }\n",
              "    80% {\n",
              "      border-color: transparent;\n",
              "      border-right-color: var(--fill-color);\n",
              "      border-bottom-color: var(--fill-color);\n",
              "    }\n",
              "    90% {\n",
              "      border-color: transparent;\n",
              "      border-bottom-color: var(--fill-color);\n",
              "    }\n",
              "  }\n",
              "</style>\n",
              "\n",
              "  <script>\n",
              "    async function quickchart(key) {\n",
              "      const quickchartButtonEl =\n",
              "        document.querySelector('#' + key + ' button');\n",
              "      quickchartButtonEl.disabled = true;  // To prevent multiple clicks.\n",
              "      quickchartButtonEl.classList.add('colab-df-spinner');\n",
              "      try {\n",
              "        const charts = await google.colab.kernel.invokeFunction(\n",
              "            'suggestCharts', [key], {});\n",
              "      } catch (error) {\n",
              "        console.error('Error during call to suggestCharts:', error);\n",
              "      }\n",
              "      quickchartButtonEl.classList.remove('colab-df-spinner');\n",
              "      quickchartButtonEl.classList.add('colab-df-quickchart-complete');\n",
              "    }\n",
              "    (() => {\n",
              "      let quickchartButtonEl =\n",
              "        document.querySelector('#df-1437f112-3bb7-48ae-8337-417f148cfd5e button');\n",
              "      quickchartButtonEl.style.display =\n",
              "        google.colab.kernel.accessAllowed ? 'block' : 'none';\n",
              "    })();\n",
              "  </script>\n",
              "</div>\n",
              "\n",
              "    </div>\n",
              "  </div>\n"
            ],
            "text/plain": [
              "Ticker           INDY         IWD         IWN         IWO        MBB  \\\n",
              "Date                                                                   \n",
              "2025-02-14  49.099998  194.479996  167.479996  295.570007  92.430000   \n",
              "2025-02-18  49.119999  195.619995  168.169998  297.309998  91.989998   \n",
              "2025-02-19  49.060001  196.210007  167.320007  296.619995  92.129997   \n",
              "2025-02-20  49.279999  195.300003  165.919998  293.760010  92.379997   \n",
              "2025-02-21  48.540001  192.639999  162.229996  283.190002  92.870003   \n",
              "\n",
              "Ticker           MCHI        TLT        XLE        XLF         XLV         XLY  \n",
              "Date                                                                            \n",
              "2025-02-14  53.459999  89.150002  90.070000  51.799999  144.800003  227.000000  \n",
              "2025-02-18  53.990002  88.099998  91.300003  52.169998  144.520004  226.369995  \n",
              "2025-02-19  53.730000  88.209999  92.019997  52.189999  146.399994  226.240005  \n",
              "2025-02-20  54.730000  88.540001  92.860001  51.389999  147.220001  224.289993  \n",
              "2025-02-21  55.770000  89.610001  90.930000  50.750000  146.429993  218.389999  "
            ]
          },
          "execution_count": 35,
          "metadata": {},
          "output_type": "execute_result"
        }
      ],
      "source": [
        "ohlc = yf.download(tickers, period=\"max\")\n",
        "prices = ohlc[\"Close\"]\n",
        "prices.tail()"
      ]
    },
    {
      "cell_type": "code",
      "execution_count": 37,
      "metadata": {
        "colab": {
          "base_uri": "https://localhost:8080/",
          "height": 255
        },
        "id": "WmtKlXfLAbNi",
        "outputId": "43d18a3b-7291-44d3-e88f-89041b694dd5"
      },
      "outputs": [
        {
          "name": "stderr",
          "output_type": "stream",
          "text": [
            "\r[*********************100%***********************]  1 of 1 completed\n"
          ]
        },
        {
          "data": {
            "application/vnd.google.colaboratory.intrinsic+json": {
              "summary": "{\n  \"name\": \"market_prices\",\n  \"rows\": 8072,\n  \"fields\": [\n    {\n      \"column\": \"Date\",\n      \"properties\": {\n        \"dtype\": \"date\",\n        \"min\": \"1993-01-29 00:00:00\",\n        \"max\": \"2025-02-21 00:00:00\",\n        \"num_unique_values\": 8072,\n        \"samples\": [\n          \"1996-01-08 00:00:00\",\n          \"2001-07-03 00:00:00\",\n          \"2001-06-05 00:00:00\"\n        ],\n        \"semantic_type\": \"\",\n        \"description\": \"\"\n      }\n    },\n    {\n      \"column\": \"SPY\",\n      \"properties\": {\n        \"dtype\": \"number\",\n        \"std\": 132.4498762972123,\n        \"min\": 24.229534149169922,\n        \"max\": 612.9299926757812,\n        \"num_unique_values\": 7643,\n        \"samples\": [\n          539.53369140625,\n          542.0177001953125,\n          75.80059051513672\n        ],\n        \"semantic_type\": \"\",\n        \"description\": \"\"\n      }\n    }\n  ]\n}",
              "type": "dataframe",
              "variable_name": "market_prices"
            },
            "text/html": [
              "\n",
              "  <div id=\"df-2bf5d0b9-013f-4174-84a4-a7131a1cf447\" class=\"colab-df-container\">\n",
              "    <div>\n",
              "<style scoped>\n",
              "    .dataframe tbody tr th:only-of-type {\n",
              "        vertical-align: middle;\n",
              "    }\n",
              "\n",
              "    .dataframe tbody tr th {\n",
              "        vertical-align: top;\n",
              "    }\n",
              "\n",
              "    .dataframe thead th {\n",
              "        text-align: right;\n",
              "    }\n",
              "</style>\n",
              "<table border=\"1\" class=\"dataframe\">\n",
              "  <thead>\n",
              "    <tr style=\"text-align: right;\">\n",
              "      <th>Ticker</th>\n",
              "      <th>SPY</th>\n",
              "    </tr>\n",
              "    <tr>\n",
              "      <th>Date</th>\n",
              "      <th></th>\n",
              "    </tr>\n",
              "  </thead>\n",
              "  <tbody>\n",
              "    <tr>\n",
              "      <th>1993-01-29</th>\n",
              "      <td>24.526072</td>\n",
              "    </tr>\n",
              "    <tr>\n",
              "      <th>1993-02-01</th>\n",
              "      <td>24.700523</td>\n",
              "    </tr>\n",
              "    <tr>\n",
              "      <th>1993-02-02</th>\n",
              "      <td>24.752842</td>\n",
              "    </tr>\n",
              "    <tr>\n",
              "      <th>1993-02-03</th>\n",
              "      <td>25.014505</td>\n",
              "    </tr>\n",
              "    <tr>\n",
              "      <th>1993-02-04</th>\n",
              "      <td>25.119171</td>\n",
              "    </tr>\n",
              "  </tbody>\n",
              "</table>\n",
              "</div>\n",
              "    <div class=\"colab-df-buttons\">\n",
              "\n",
              "  <div class=\"colab-df-container\">\n",
              "    <button class=\"colab-df-convert\" onclick=\"convertToInteractive('df-2bf5d0b9-013f-4174-84a4-a7131a1cf447')\"\n",
              "            title=\"Convert this dataframe to an interactive table.\"\n",
              "            style=\"display:none;\">\n",
              "\n",
              "  <svg xmlns=\"http://www.w3.org/2000/svg\" height=\"24px\" viewBox=\"0 -960 960 960\">\n",
              "    <path d=\"M120-120v-720h720v720H120Zm60-500h600v-160H180v160Zm220 220h160v-160H400v160Zm0 220h160v-160H400v160ZM180-400h160v-160H180v160Zm440 0h160v-160H620v160ZM180-180h160v-160H180v160Zm440 0h160v-160H620v160Z\"/>\n",
              "  </svg>\n",
              "    </button>\n",
              "\n",
              "  <style>\n",
              "    .colab-df-container {\n",
              "      display:flex;\n",
              "      gap: 12px;\n",
              "    }\n",
              "\n",
              "    .colab-df-convert {\n",
              "      background-color: #E8F0FE;\n",
              "      border: none;\n",
              "      border-radius: 50%;\n",
              "      cursor: pointer;\n",
              "      display: none;\n",
              "      fill: #1967D2;\n",
              "      height: 32px;\n",
              "      padding: 0 0 0 0;\n",
              "      width: 32px;\n",
              "    }\n",
              "\n",
              "    .colab-df-convert:hover {\n",
              "      background-color: #E2EBFA;\n",
              "      box-shadow: 0px 1px 2px rgba(60, 64, 67, 0.3), 0px 1px 3px 1px rgba(60, 64, 67, 0.15);\n",
              "      fill: #174EA6;\n",
              "    }\n",
              "\n",
              "    .colab-df-buttons div {\n",
              "      margin-bottom: 4px;\n",
              "    }\n",
              "\n",
              "    [theme=dark] .colab-df-convert {\n",
              "      background-color: #3B4455;\n",
              "      fill: #D2E3FC;\n",
              "    }\n",
              "\n",
              "    [theme=dark] .colab-df-convert:hover {\n",
              "      background-color: #434B5C;\n",
              "      box-shadow: 0px 1px 3px 1px rgba(0, 0, 0, 0.15);\n",
              "      filter: drop-shadow(0px 1px 2px rgba(0, 0, 0, 0.3));\n",
              "      fill: #FFFFFF;\n",
              "    }\n",
              "  </style>\n",
              "\n",
              "    <script>\n",
              "      const buttonEl =\n",
              "        document.querySelector('#df-2bf5d0b9-013f-4174-84a4-a7131a1cf447 button.colab-df-convert');\n",
              "      buttonEl.style.display =\n",
              "        google.colab.kernel.accessAllowed ? 'block' : 'none';\n",
              "\n",
              "      async function convertToInteractive(key) {\n",
              "        const element = document.querySelector('#df-2bf5d0b9-013f-4174-84a4-a7131a1cf447');\n",
              "        const dataTable =\n",
              "          await google.colab.kernel.invokeFunction('convertToInteractive',\n",
              "                                                    [key], {});\n",
              "        if (!dataTable) return;\n",
              "\n",
              "        const docLinkHtml = 'Like what you see? Visit the ' +\n",
              "          '<a target=\"_blank\" href=https://colab.research.google.com/notebooks/data_table.ipynb>data table notebook</a>'\n",
              "          + ' to learn more about interactive tables.';\n",
              "        element.innerHTML = '';\n",
              "        dataTable['output_type'] = 'display_data';\n",
              "        await google.colab.output.renderOutput(dataTable, element);\n",
              "        const docLink = document.createElement('div');\n",
              "        docLink.innerHTML = docLinkHtml;\n",
              "        element.appendChild(docLink);\n",
              "      }\n",
              "    </script>\n",
              "  </div>\n",
              "\n",
              "\n",
              "<div id=\"df-df91a63e-748f-4f8e-bd79-585169137861\">\n",
              "  <button class=\"colab-df-quickchart\" onclick=\"quickchart('df-df91a63e-748f-4f8e-bd79-585169137861')\"\n",
              "            title=\"Suggest charts\"\n",
              "            style=\"display:none;\">\n",
              "\n",
              "<svg xmlns=\"http://www.w3.org/2000/svg\" height=\"24px\"viewBox=\"0 0 24 24\"\n",
              "     width=\"24px\">\n",
              "    <g>\n",
              "        <path d=\"M19 3H5c-1.1 0-2 .9-2 2v14c0 1.1.9 2 2 2h14c1.1 0 2-.9 2-2V5c0-1.1-.9-2-2-2zM9 17H7v-7h2v7zm4 0h-2V7h2v10zm4 0h-2v-4h2v4z\"/>\n",
              "    </g>\n",
              "</svg>\n",
              "  </button>\n",
              "\n",
              "<style>\n",
              "  .colab-df-quickchart {\n",
              "      --bg-color: #E8F0FE;\n",
              "      --fill-color: #1967D2;\n",
              "      --hover-bg-color: #E2EBFA;\n",
              "      --hover-fill-color: #174EA6;\n",
              "      --disabled-fill-color: #AAA;\n",
              "      --disabled-bg-color: #DDD;\n",
              "  }\n",
              "\n",
              "  [theme=dark] .colab-df-quickchart {\n",
              "      --bg-color: #3B4455;\n",
              "      --fill-color: #D2E3FC;\n",
              "      --hover-bg-color: #434B5C;\n",
              "      --hover-fill-color: #FFFFFF;\n",
              "      --disabled-bg-color: #3B4455;\n",
              "      --disabled-fill-color: #666;\n",
              "  }\n",
              "\n",
              "  .colab-df-quickchart {\n",
              "    background-color: var(--bg-color);\n",
              "    border: none;\n",
              "    border-radius: 50%;\n",
              "    cursor: pointer;\n",
              "    display: none;\n",
              "    fill: var(--fill-color);\n",
              "    height: 32px;\n",
              "    padding: 0;\n",
              "    width: 32px;\n",
              "  }\n",
              "\n",
              "  .colab-df-quickchart:hover {\n",
              "    background-color: var(--hover-bg-color);\n",
              "    box-shadow: 0 1px 2px rgba(60, 64, 67, 0.3), 0 1px 3px 1px rgba(60, 64, 67, 0.15);\n",
              "    fill: var(--button-hover-fill-color);\n",
              "  }\n",
              "\n",
              "  .colab-df-quickchart-complete:disabled,\n",
              "  .colab-df-quickchart-complete:disabled:hover {\n",
              "    background-color: var(--disabled-bg-color);\n",
              "    fill: var(--disabled-fill-color);\n",
              "    box-shadow: none;\n",
              "  }\n",
              "\n",
              "  .colab-df-spinner {\n",
              "    border: 2px solid var(--fill-color);\n",
              "    border-color: transparent;\n",
              "    border-bottom-color: var(--fill-color);\n",
              "    animation:\n",
              "      spin 1s steps(1) infinite;\n",
              "  }\n",
              "\n",
              "  @keyframes spin {\n",
              "    0% {\n",
              "      border-color: transparent;\n",
              "      border-bottom-color: var(--fill-color);\n",
              "      border-left-color: var(--fill-color);\n",
              "    }\n",
              "    20% {\n",
              "      border-color: transparent;\n",
              "      border-left-color: var(--fill-color);\n",
              "      border-top-color: var(--fill-color);\n",
              "    }\n",
              "    30% {\n",
              "      border-color: transparent;\n",
              "      border-left-color: var(--fill-color);\n",
              "      border-top-color: var(--fill-color);\n",
              "      border-right-color: var(--fill-color);\n",
              "    }\n",
              "    40% {\n",
              "      border-color: transparent;\n",
              "      border-right-color: var(--fill-color);\n",
              "      border-top-color: var(--fill-color);\n",
              "    }\n",
              "    60% {\n",
              "      border-color: transparent;\n",
              "      border-right-color: var(--fill-color);\n",
              "    }\n",
              "    80% {\n",
              "      border-color: transparent;\n",
              "      border-right-color: var(--fill-color);\n",
              "      border-bottom-color: var(--fill-color);\n",
              "    }\n",
              "    90% {\n",
              "      border-color: transparent;\n",
              "      border-bottom-color: var(--fill-color);\n",
              "    }\n",
              "  }\n",
              "</style>\n",
              "\n",
              "  <script>\n",
              "    async function quickchart(key) {\n",
              "      const quickchartButtonEl =\n",
              "        document.querySelector('#' + key + ' button');\n",
              "      quickchartButtonEl.disabled = true;  // To prevent multiple clicks.\n",
              "      quickchartButtonEl.classList.add('colab-df-spinner');\n",
              "      try {\n",
              "        const charts = await google.colab.kernel.invokeFunction(\n",
              "            'suggestCharts', [key], {});\n",
              "      } catch (error) {\n",
              "        console.error('Error during call to suggestCharts:', error);\n",
              "      }\n",
              "      quickchartButtonEl.classList.remove('colab-df-spinner');\n",
              "      quickchartButtonEl.classList.add('colab-df-quickchart-complete');\n",
              "    }\n",
              "    (() => {\n",
              "      let quickchartButtonEl =\n",
              "        document.querySelector('#df-df91a63e-748f-4f8e-bd79-585169137861 button');\n",
              "      quickchartButtonEl.style.display =\n",
              "        google.colab.kernel.accessAllowed ? 'block' : 'none';\n",
              "    })();\n",
              "  </script>\n",
              "</div>\n",
              "\n",
              "    </div>\n",
              "  </div>\n"
            ],
            "text/plain": [
              "Ticker            SPY\n",
              "Date                 \n",
              "1993-01-29  24.526072\n",
              "1993-02-01  24.700523\n",
              "1993-02-02  24.752842\n",
              "1993-02-03  25.014505\n",
              "1993-02-04  25.119171"
            ]
          },
          "execution_count": 37,
          "metadata": {},
          "output_type": "execute_result"
        }
      ],
      "source": [
        "market_prices = yf.download(\"SPY\", period=\"max\")[\"Close\"]\n",
        "market_prices.head()"
      ]
    },
    {
      "cell_type": "code",
      "execution_count": 39,
      "metadata": {
        "colab": {
          "base_uri": "https://localhost:8080/"
        },
        "id": "rZwXHHxxAbNi",
        "outputId": "669bea6f-18bb-49be-a874-2cb6eefbfb8b"
      },
      "outputs": [
        {
          "data": {
            "text/plain": [
              "{'TLT': 9830216704,\n",
              " 'MBB': 36577984512,\n",
              " 'IWN': 11923904512,\n",
              " 'IWO': 12672752640,\n",
              " 'IWD': 58832257024,\n",
              " 'MCHI': 5180372480,\n",
              " 'INDY': 881556608,\n",
              " 'XLV': 28907479040,\n",
              " 'XLE': 16951534592,\n",
              " 'XLY': 26262052864,\n",
              " 'XLF': 44834832384}"
            ]
          },
          "execution_count": 39,
          "metadata": {},
          "output_type": "execute_result"
        }
      ],
      "source": [
        "mcaps = {}\n",
        "for t in tickers:\n",
        "    stock = yf.Ticker(t)\n",
        "    info = stock.info\n",
        "\n",
        "    # Try to get market capitalization first, if not available, use totalAssets for ETFs\n",
        "    if 'marketCap' in info:\n",
        "        mcaps[t] = info['marketCap']  # For regular stocks\n",
        "    elif 'totalAssets' in info:\n",
        "        mcaps[t] = info['totalAssets']  # For ETFs, use total assets (AUM)\n",
        "    else:\n",
        "        print(f\"Market Cap or Total Assets not available for {t}, assigning default value.\")\n",
        "        mcaps[t] = 1e9  # Assigning a default value, e.g., $1 billion\n",
        "\n",
        "mcaps"
      ]
    },
    {
      "cell_type": "markdown",
      "metadata": {
        "id": "w6cnqTB8AbNi"
      },
      "source": [
        "## Constructing the prior"
      ]
    },
    {
      "cell_type": "code",
      "execution_count": 40,
      "metadata": {
        "colab": {
          "base_uri": "https://localhost:8080/",
          "height": 36
        },
        "id": "KMyL_d0mAbNj",
        "outputId": "adfd8fdd-b717-45c2-ca5f-544029b8790d"
      },
      "outputs": [
        {
          "data": {
            "application/vnd.google.colaboratory.intrinsic+json": {
              "type": "string"
            },
            "text/plain": [
              "'1.5.6'"
            ]
          },
          "execution_count": 40,
          "metadata": {},
          "output_type": "execute_result"
        }
      ],
      "source": [
        "import pypfopt\n",
        "pypfopt.__version__"
      ]
    },
    {
      "cell_type": "code",
      "execution_count": 41,
      "metadata": {
        "colab": {
          "base_uri": "https://localhost:8080/"
        },
        "id": "V35ccSUSAbNj",
        "outputId": "d39b4c18-3504-45ff-c418-80aebb41887f"
      },
      "outputs": [
        {
          "data": {
            "text/plain": [
              "3.3907210838708917"
            ]
          },
          "execution_count": 41,
          "metadata": {},
          "output_type": "execute_result"
        }
      ],
      "source": [
        "from pypfopt import black_litterman, risk_models\n",
        "from pypfopt import BlackLittermanModel, plotting\n",
        "\n",
        "S = risk_models.CovarianceShrinkage(prices).ledoit_wolf()\n",
        "delta = black_litterman.market_implied_risk_aversion(market_prices)\n",
        "delta"
      ]
    },
    {
      "cell_type": "code",
      "execution_count": 42,
      "metadata": {
        "colab": {
          "base_uri": "https://localhost:8080/",
          "height": 487
        },
        "id": "tgz3bOltAbNj",
        "outputId": "ca226a5f-a5f7-4813-c23b-8e031dc10631"
      },
      "outputs": [
        {
          "data": {
            "image/png": "[encoded data removed]",
            "text/plain": [
              "<Figure size 640x480 with 2 Axes>"
            ]
          },
          "metadata": {},
          "output_type": "display_data"
        }
      ],
      "source": [
        "plotting.plot_covariance(S, plot_correlation=True);"
      ]
    },
    {
      "cell_type": "code",
      "execution_count": 43,
      "metadata": {
        "colab": {
          "base_uri": "https://localhost:8080/",
          "height": 460
        },
        "id": "qknxazUhAbNk",
        "outputId": "e2af3865-6eab-477f-c97c-96b2348adcc9"
      },
      "outputs": [
        {
          "data": {
            "text/html": [
              "<div>\n",
              "<style scoped>\n",
              "    .dataframe tbody tr th:only-of-type {\n",
              "        vertical-align: middle;\n",
              "    }\n",
              "\n",
              "    .dataframe tbody tr th {\n",
              "        vertical-align: top;\n",
              "    }\n",
              "\n",
              "    .dataframe thead th {\n",
              "        text-align: right;\n",
              "    }\n",
              "</style>\n",
              "<table border=\"1\" class=\"dataframe\">\n",
              "  <thead>\n",
              "    <tr style=\"text-align: right;\">\n",
              "      <th></th>\n",
              "      <th>0</th>\n",
              "    </tr>\n",
              "    <tr>\n",
              "      <th>Ticker</th>\n",
              "      <th></th>\n",
              "    </tr>\n",
              "  </thead>\n",
              "  <tbody>\n",
              "    <tr>\n",
              "      <th>INDY</th>\n",
              "      <td>0.042819</td>\n",
              "    </tr>\n",
              "    <tr>\n",
              "      <th>IWD</th>\n",
              "      <td>0.098100</td>\n",
              "    </tr>\n",
              "    <tr>\n",
              "      <th>IWN</th>\n",
              "      <td>0.113387</td>\n",
              "    </tr>\n",
              "    <tr>\n",
              "      <th>IWO</th>\n",
              "      <td>0.114000</td>\n",
              "    </tr>\n",
              "    <tr>\n",
              "      <th>MBB</th>\n",
              "      <td>0.001005</td>\n",
              "    </tr>\n",
              "    <tr>\n",
              "      <th>MCHI</th>\n",
              "      <td>0.039336</td>\n",
              "    </tr>\n",
              "    <tr>\n",
              "      <th>TLT</th>\n",
              "      <td>-0.020313</td>\n",
              "    </tr>\n",
              "    <tr>\n",
              "      <th>XLE</th>\n",
              "      <td>0.113177</td>\n",
              "    </tr>\n",
              "    <tr>\n",
              "      <th>XLF</th>\n",
              "      <td>0.142368</td>\n",
              "    </tr>\n",
              "    <tr>\n",
              "      <th>XLV</th>\n",
              "      <td>0.075465</td>\n",
              "    </tr>\n",
              "    <tr>\n",
              "      <th>XLY</th>\n",
              "      <td>0.105498</td>\n",
              "    </tr>\n",
              "  </tbody>\n",
              "</table>\n",
              "</div><br><label><b>dtype:</b> float64</label>"
            ],
            "text/plain": [
              "Ticker\n",
              "INDY    0.042819\n",
              "IWD     0.098100\n",
              "IWN     0.113387\n",
              "IWO     0.114000\n",
              "MBB     0.001005\n",
              "MCHI    0.039336\n",
              "TLT    -0.020313\n",
              "XLE     0.113177\n",
              "XLF     0.142368\n",
              "XLV     0.075465\n",
              "XLY     0.105498\n",
              "dtype: float64"
            ]
          },
          "execution_count": 43,
          "metadata": {},
          "output_type": "execute_result"
        }
      ],
      "source": [
        "market_prior = black_litterman.market_implied_prior_returns(mcaps, delta, S)\n",
        "market_prior"
      ]
    },
    {
      "cell_type": "code",
      "execution_count": 44,
      "metadata": {
        "colab": {
          "base_uri": "https://localhost:8080/",
          "height": 445
        },
        "id": "9exlhi1BAbNk",
        "outputId": "3f614569-4a3a-4bae-c6e3-3c227da24a93"
      },
      "outputs": [
        {
          "data": {
            "image/png": "[encoded data removed]",
            "text/plain": [
              "<Figure size 1000x500 with 1 Axes>"
            ]
          },
          "metadata": {},
          "output_type": "display_data"
        }
      ],
      "source": [
        "market_prior.plot.barh(figsize=(10,5));"
      ]
    },
    {
      "cell_type": "markdown",
      "metadata": {
        "id": "v1YzJTJFAbNl"
      },
      "source": [
        "## Views\n",
        "\n",
        "In the BL method, views are specified via the matrix P (picking matrix) and the vector Q. Q contains the magnitude of each view, while P maps the views to the assets they belong to.\n",
        "\n",
        "If you are providing **absolute views** (i.e a return estimate for each asset), you don't have to worry about P and Q, you can just pass your views as a dictionary."
      ]
    },
    {
      "cell_type": "code",
      "execution_count": 49,
      "metadata": {
        "colab": {
          "base_uri": "https://localhost:8080/"
        },
        "id": "uTP2BVZIAbNl",
        "outputId": "600a8db2-ad5f-4938-a3c2-1f87ffe77b32"
      },
      "outputs": [
        {
          "name": "stderr",
          "output_type": "stream",
          "text": [
            "[*********************100%***********************]  11 of 11 completed"
          ]
        },
        {
          "name": "stdout",
          "output_type": "stream",
          "text": [
            "Annualized Returns:\n",
            " Ticker\n",
            "INDY    0.090402\n",
            "IWD     0.135838\n",
            "IWN     0.081951\n",
            "IWO     0.125248\n",
            "MBB     0.037643\n",
            "MCHI    0.133967\n",
            "TLT    -0.015929\n",
            "XLE     0.089805\n",
            "XLF     0.207169\n",
            "XLV     0.081920\n",
            "XLY     0.228448\n",
            "dtype: float64\n",
            "\n",
            "Annualized Volatility:\n",
            " Ticker\n",
            "INDY    0.121136\n",
            "IWD     0.117188\n",
            "IWN     0.205911\n",
            "IWO     0.204718\n",
            "MBB     0.074045\n",
            "MCHI    0.287987\n",
            "TLT     0.160274\n",
            "XLE     0.199117\n",
            "XLF     0.151615\n",
            "XLV     0.113002\n",
            "XLY     0.186872\n",
            "dtype: float64\n",
            "\n",
            "Annualized Covariance Matrix:\n",
            " Ticker      INDY       IWD       IWN       IWO       MBB      MCHI       TLT  \\\n",
            "Ticker                                                                         \n",
            "INDY    0.014674  0.006535  0.010797  0.011563  0.001215  0.006649  0.001942   \n",
            "IWD     0.006535  0.013733  0.021146  0.019982  0.001366  0.009858  0.002135   \n",
            "IWN     0.010797  0.021146  0.042399  0.038926  0.002988  0.016006  0.004300   \n",
            "IWO     0.011563  0.019982  0.038926  0.041909  0.002868  0.015804  0.003918   \n",
            "MBB     0.001215  0.001366  0.002988  0.002868  0.005483  0.002636  0.010581   \n",
            "MCHI    0.006649  0.009858  0.016006  0.015804  0.002636  0.082937  0.002199   \n",
            "TLT     0.001942  0.002135  0.004300  0.003918  0.010581  0.002199  0.025688   \n",
            "XLE     0.004967  0.014026  0.021162  0.017166 -0.001365  0.012786 -0.003327   \n",
            "XLF     0.007535  0.015665  0.024098  0.021645  0.000157  0.007408 -0.000240   \n",
            "XLV     0.004106  0.008724  0.010521  0.011066  0.001565  0.004893  0.003013   \n",
            "XLY     0.009339  0.014742  0.024986  0.027383  0.002743  0.014548  0.004740   \n",
            "\n",
            "Ticker       XLE       XLF       XLV       XLY  \n",
            "Ticker                                          \n",
            "INDY    0.004967  0.007535  0.004106  0.009339  \n",
            "IWD     0.014026  0.015665  0.008724  0.014742  \n",
            "IWN     0.021162  0.024098  0.010521  0.024986  \n",
            "IWO     0.017166  0.021645  0.011066  0.027383  \n",
            "MBB    -0.001365  0.000157  0.001565  0.002743  \n",
            "MCHI    0.012786  0.007408  0.004893  0.014548  \n",
            "TLT    -0.003327 -0.000240  0.003013  0.004740  \n",
            "XLE     0.039648  0.015617  0.005647  0.008066  \n",
            "XLF     0.015617  0.022987  0.008440  0.016692  \n",
            "XLV     0.005647  0.008440  0.012769  0.008216  \n",
            "XLY     0.008066  0.016692  0.008216  0.034921  \n"
          ]
        },
        {
          "name": "stderr",
          "output_type": "stream",
          "text": [
            "\n"
          ]
        }
      ],
      "source": [
        "#Exp_returns and volatility\n",
        "# Define the date range (last 2 years)\n",
        "from datetime import datetime, timedelta\n",
        "end_date = datetime.today().strftime('%Y-%m-%d')\n",
        "start_date = (datetime.today() - timedelta(days=2*365)).strftime('%Y-%m-%d')\n",
        "\n",
        "# Download adjusted close price data for the tickers\n",
        "data = yf.download(tickers, start=start_date, end=end_date)['Close']\n",
        "\n",
        "# Calculate daily returns\n",
        "returns = data.pct_change().dropna()\n",
        "\n",
        "# Calculate the mean daily returns and volatility (standard deviation) for each asset\n",
        "mean_daily_returns = returns.mean()\n",
        "daily_volatility = returns.std()\n",
        "\n",
        "# Annualize the mean returns and volatility\n",
        "trading_days = 252  # Approximate number of trading days in a year\n",
        "annualized_returns = mean_daily_returns * trading_days\n",
        "annualized_volatility = daily_volatility * np.sqrt(trading_days)\n",
        "\n",
        "# Calculate the covariance matrix for the asset classes (daily)\n",
        "cov_matrix_daily = returns.cov()\n",
        "\n",
        "# Annualize the covariance matrix\n",
        "cov_matrix_annualized = cov_matrix_daily * trading_days\n",
        "\n",
        "# Display results\n",
        "print(\"Annualized Returns:\\n\", annualized_returns)\n",
        "print(\"\\nAnnualized Volatility:\\n\", annualized_volatility)\n",
        "print(\"\\nAnnualized Covariance Matrix:\\n\", cov_matrix_annualized)"
      ]
    },
    {
      "cell_type": "code",
      "execution_count": 50,
      "metadata": {
        "colab": {
          "base_uri": "https://localhost:8080/"
        },
        "id": "Z45ZXTLQFM4h",
        "outputId": "2d023f2c-696f-47b6-bfd8-f58bdd6df65c"
      },
      "outputs": [
        {
          "name": "stdout",
          "output_type": "stream",
          "text": [
            "Views: {'INDY': 0.09040211316445225, 'IWD': 0.13583809204090155, 'IWN': 0.08195078156209978, 'IWO': 0.12524782359594291, 'MBB': 0.03764294155990762, 'MCHI': 0.13396674894130192, 'TLT': -0.015929111881318944, 'XLE': 0.08980529655597475, 'XLF': 0.20716858120709553, 'XLV': 0.0819199330555198, 'XLY': 0.22844824634263378}\n"
          ]
        }
      ],
      "source": [
        "\n",
        "# Convert the annualized returns to a dictionary\n",
        "annualized_returns_dict = annualized_returns.to_dict()\n",
        "\n",
        "# Define your absolute views using the values from the 'annualized_returns' variable\n",
        "# From my capital market Expectations I expect the given asset classes can provide a return which is atleast the mean.\n",
        "\n",
        "viewdict = {ticker: annualized_returns_dict[ticker] for ticker in annualized_returns_dict}\n",
        "\n",
        "# Now pass this into the Black-Litterman model\n",
        "bl = BlackLittermanModel(S, pi=market_prior, absolute_views=viewdict)\n",
        "\n",
        "print(\"Views:\", viewdict)"
      ]
    },
    {
      "cell_type": "markdown",
      "metadata": {
        "id": "fA5PRsozAbNm"
      },
      "source": [
        "Black-Litterman also allows for relative views, e.g you think asset A will outperform asset B by 10%. If you'd like to incorporate these, you will have to build P and Q yourself. An explanation for this is given in the [docs](https://pyportfolioopt.readthedocs.io/en/latest/BlackLitterman.html#views)."
      ]
    },
    {
      "cell_type": "markdown",
      "metadata": {
        "id": "QIMKGZEoAbNm"
      },
      "source": [
        "## View confidences\n",
        "\n",
        "In this section, we provide two ways that you may wish to construct the uncertainty matrix. The first is known as Idzorek's method. It allows you to specify a vector/list of percentage confidences."
      ]
    },
    {
      "cell_type": "code",
      "execution_count": 51,
      "metadata": {
        "id": "Z0Pzoio1AbNm"
      },
      "outputs": [],
      "source": [
        "confidences = [\n",
        "    0.4,#INDY\n",
        "    0.7,#IWD\n",
        "    0.45,#IWM\n",
        "    0.55,#IWO\n",
        "    0.35, #MBB\n",
        "    0.65, #MCHI\n",
        "    0.45, #TLT\n",
        "    0.7, #XLE\n",
        "    0.6, #XLF\n",
        "    0.32, #XLV\n",
        "    0.45 #XLY\n",
        "]"
      ]
    },
    {
      "cell_type": "code",
      "execution_count": 52,
      "metadata": {
        "id": "EaRmLt4IAbNm"
      },
      "outputs": [],
      "source": [
        "bl = BlackLittermanModel(S, pi=market_prior, absolute_views=viewdict, omega=\"idzorek\", view_confidences=confidences)"
      ]
    },
    {
      "cell_type": "code",
      "execution_count": 53,
      "metadata": {
        "colab": {
          "base_uri": "https://localhost:8080/",
          "height": 599
        },
        "id": "fo6SKTGAAbNn",
        "outputId": "21d12fff-fafb-4df8-9e5d-61f5133a1431"
      },
      "outputs": [
        {
          "data": {
            "image/png": "[encoded data removed]",
            "text/plain": [
              "<Figure size 700x700 with 1 Axes>"
            ]
          },
          "metadata": {},
          "output_type": "display_data"
        }
      ],
      "source": [
        "fig, ax = plt.subplots(figsize=(7,7))\n",
        "im = ax.imshow(bl.omega)\n",
        "\n",
        "# We want to show all ticks...\n",
        "ax.set_xticks(np.arange(len(bl.tickers)))\n",
        "ax.set_yticks(np.arange(len(bl.tickers)))\n",
        "\n",
        "ax.set_xticklabels(bl.tickers)\n",
        "ax.set_yticklabels(bl.tickers)\n",
        "plt.show()"
      ]
    },
    {
      "cell_type": "code",
      "execution_count": 54,
      "metadata": {
        "colab": {
          "base_uri": "https://localhost:8080/"
        },
        "id": "58aBtbhuAbNn",
        "outputId": "b1527931-2340-463d-b1d3-d1b0678f45a4"
      },
      "outputs": [
        {
          "data": {
            "text/plain": [
              "array([0.002274  , 0.0007462 , 0.00325686, 0.00242246, 0.00014522,\n",
              "       0.00102455, 0.00110869, 0.00177345, 0.00274422, 0.0033998 ,\n",
              "       0.00312853])"
            ]
          },
          "execution_count": 54,
          "metadata": {},
          "output_type": "execute_result"
        }
      ],
      "source": [
        "np.diag(bl.omega)"
      ]
    },
    {
      "cell_type": "markdown",
      "metadata": {
        "id": "lUGduOmsAbNn"
      },
      "source": [
        "Note how NAT, which we gave the lowest confidence, also has the highest uncertainty.\n",
        "\n",
        "Instead of inputting confidences, we can calculate the uncertainty matrix directly by specifying 1 standard deviation confidence intervals, i.e bounds which we think will contain the true return 68% of the time. This may be easier than coming up with somewhat arbitrary percentage confidences"
      ]
    },
    {
      "cell_type": "code",
      "execution_count": 56,
      "metadata": {
        "id": "QQtnWs9xAbNn"
      },
      "outputs": [],
      "source": [
        "intervals = [\n",
        "    (0, 0.25),\n",
        "    (0.1, 0.4),\n",
        "    (-0.1, 0.15),\n",
        "    (-0.05, 0.1),\n",
        "    (0.15, 0.25),\n",
        "    (-0.1, 0),\n",
        "    (0.1, 0.2),\n",
        "    (0.08, 0.12),\n",
        "    (0.1, 0.9),\n",
        "    (0, 0.3)\n",
        "]"
      ]
    },
    {
      "cell_type": "code",
      "execution_count": 57,
      "metadata": {
        "colab": {
          "base_uri": "https://localhost:8080/"
        },
        "id": "avW4ld8bAbNo",
        "outputId": "8af0ddc3-d3ed-4892-c674-9c8a263b46bf"
      },
      "outputs": [
        {
          "name": "stdout",
          "output_type": "stream",
          "text": [
            "[0.015625, 0.022500000000000006, 0.015625, 0.0056250000000000015, 0.0025000000000000005, 0.0025000000000000005, 0.0025000000000000005, 0.00039999999999999986, 0.16000000000000003, 0.0225]\n"
          ]
        }
      ],
      "source": [
        "variances = []\n",
        "for lb, ub in intervals:\n",
        "    sigma = (ub - lb)/2\n",
        "    variances.append(sigma ** 2)\n",
        "\n",
        "print(variances)\n",
        "omega = np.diag(variances)"
      ]
    },
    {
      "cell_type": "markdown",
      "metadata": {
        "id": "VlVq9sICAbNo"
      },
      "source": [
        "## Posterior estimates\n",
        "\n",
        "Given the inputs, we can compute a posterior estimate of returns\n"
      ]
    },
    {
      "cell_type": "code",
      "execution_count": 60,
      "metadata": {
        "id": "478dHIDHAbNo"
      },
      "outputs": [],
      "source": [
        "# We are using the shortcut to automatically compute market-implied prior\n",
        "bl = BlackLittermanModel(S, pi=\"market\", market_caps=mcaps, risk_aversion=delta,\n",
        "                        absolute_views=viewdict, omega=\"idzorek\",view_confidences=confidences)"
      ]
    },
    {
      "cell_type": "code",
      "execution_count": 61,
      "metadata": {
        "colab": {
          "base_uri": "https://localhost:8080/",
          "height": 460
        },
        "id": "A9VSO7xAAbNo",
        "outputId": "7ff18d9d-6893-4636-a43b-1285e8db948f"
      },
      "outputs": [
        {
          "data": {
            "text/html": [
              "<div>\n",
              "<style scoped>\n",
              "    .dataframe tbody tr th:only-of-type {\n",
              "        vertical-align: middle;\n",
              "    }\n",
              "\n",
              "    .dataframe tbody tr th {\n",
              "        vertical-align: top;\n",
              "    }\n",
              "\n",
              "    .dataframe thead th {\n",
              "        text-align: right;\n",
              "    }\n",
              "</style>\n",
              "<table border=\"1\" class=\"dataframe\">\n",
              "  <thead>\n",
              "    <tr style=\"text-align: right;\">\n",
              "      <th></th>\n",
              "      <th>0</th>\n",
              "    </tr>\n",
              "    <tr>\n",
              "      <th>Ticker</th>\n",
              "      <th></th>\n",
              "    </tr>\n",
              "  </thead>\n",
              "  <tbody>\n",
              "    <tr>\n",
              "      <th>INDY</th>\n",
              "      <td>0.077143</td>\n",
              "    </tr>\n",
              "    <tr>\n",
              "      <th>IWD</th>\n",
              "      <td>0.125666</td>\n",
              "    </tr>\n",
              "    <tr>\n",
              "      <th>IWN</th>\n",
              "      <td>0.136905</td>\n",
              "    </tr>\n",
              "    <tr>\n",
              "      <th>IWO</th>\n",
              "      <td>0.143643</td>\n",
              "    </tr>\n",
              "    <tr>\n",
              "      <th>MBB</th>\n",
              "      <td>0.013750</td>\n",
              "    </tr>\n",
              "    <tr>\n",
              "      <th>MCHI</th>\n",
              "      <td>0.103857</td>\n",
              "    </tr>\n",
              "    <tr>\n",
              "      <th>TLT</th>\n",
              "      <td>-0.008156</td>\n",
              "    </tr>\n",
              "    <tr>\n",
              "      <th>XLE</th>\n",
              "      <td>0.112478</td>\n",
              "    </tr>\n",
              "    <tr>\n",
              "      <th>XLF</th>\n",
              "      <td>0.184820</td>\n",
              "    </tr>\n",
              "    <tr>\n",
              "      <th>XLV</th>\n",
              "      <td>0.100274</td>\n",
              "    </tr>\n",
              "    <tr>\n",
              "      <th>XLY</th>\n",
              "      <td>0.158428</td>\n",
              "    </tr>\n",
              "  </tbody>\n",
              "</table>\n",
              "</div><br><label><b>dtype:</b> float64</label>"
            ],
            "text/plain": [
              "Ticker\n",
              "INDY    0.077143\n",
              "IWD     0.125666\n",
              "IWN     0.136905\n",
              "IWO     0.143643\n",
              "MBB     0.013750\n",
              "MCHI    0.103857\n",
              "TLT    -0.008156\n",
              "XLE     0.112478\n",
              "XLF     0.184820\n",
              "XLV     0.100274\n",
              "XLY     0.158428\n",
              "dtype: float64"
            ]
          },
          "execution_count": 61,
          "metadata": {},
          "output_type": "execute_result"
        }
      ],
      "source": [
        "# Posterior estimate of returns\n",
        "ret_bl = bl.bl_returns()\n",
        "ret_bl"
      ]
    },
    {
      "cell_type": "markdown",
      "metadata": {
        "id": "eRKmlKABAbNo"
      },
      "source": [
        "We can visualise how this compares to the prior and our views:"
      ]
    },
    {
      "cell_type": "code",
      "execution_count": 62,
      "metadata": {
        "colab": {
          "base_uri": "https://localhost:8080/",
          "height": 394
        },
        "id": "KHfvi6KvAbNp",
        "outputId": "75d7698f-0042-48d8-9671-d9b02fb87d5a"
      },
      "outputs": [
        {
          "data": {
            "application/vnd.google.colaboratory.intrinsic+json": {
              "summary": "{\n  \"name\": \"rets_df\",\n  \"rows\": 11,\n  \"fields\": [\n    {\n      \"column\": \"Prior\",\n      \"properties\": {\n        \"dtype\": \"number\",\n        \"std\": 0.052270325718203184,\n        \"min\": -0.020313153582233942,\n        \"max\": 0.14236799277071072,\n        \"num_unique_values\": 11,\n        \"samples\": [\n          0.039336378794920496,\n          0.04281893500930978,\n          0.0754654075496695\n        ],\n        \"semantic_type\": \"\",\n        \"description\": \"\"\n      }\n    },\n    {\n      \"column\": \"Posterior\",\n      \"properties\": {\n        \"dtype\": \"number\",\n        \"std\": 0.058435294073826256,\n        \"min\": -0.00815570561974467,\n        \"max\": 0.18481973236339655,\n        \"num_unique_values\": 11,\n        \"samples\": [\n          0.10385669111804521,\n          0.0771434402323706,\n          0.1002737852982945\n        ],\n        \"semantic_type\": \"\",\n        \"description\": \"\"\n      }\n    },\n    {\n      \"column\": \"Views\",\n      \"properties\": {\n        \"dtype\": \"number\",\n        \"std\": 0.06956321055081253,\n        \"min\": -0.015929111881318944,\n        \"max\": 0.22844824634263378,\n        \"num_unique_values\": 11,\n        \"samples\": [\n          0.13396674894130192,\n          0.09040211316445225,\n          0.0819199330555198\n        ],\n        \"semantic_type\": \"\",\n        \"description\": \"\"\n      }\n    }\n  ]\n}",
              "type": "dataframe",
              "variable_name": "rets_df"
            },
            "text/html": [
              "\n",
              "  <div id=\"df-727af53e-3643-421e-bd97-58f75d87683c\" class=\"colab-df-container\">\n",
              "    <div>\n",
              "<style scoped>\n",
              "    .dataframe tbody tr th:only-of-type {\n",
              "        vertical-align: middle;\n",
              "    }\n",
              "\n",
              "    .dataframe tbody tr th {\n",
              "        vertical-align: top;\n",
              "    }\n",
              "\n",
              "    .dataframe thead th {\n",
              "        text-align: right;\n",
              "    }\n",
              "</style>\n",
              "<table border=\"1\" class=\"dataframe\">\n",
              "  <thead>\n",
              "    <tr style=\"text-align: right;\">\n",
              "      <th></th>\n",
              "      <th>Prior</th>\n",
              "      <th>Posterior</th>\n",
              "      <th>Views</th>\n",
              "    </tr>\n",
              "  </thead>\n",
              "  <tbody>\n",
              "    <tr>\n",
              "      <th>INDY</th>\n",
              "      <td>0.042819</td>\n",
              "      <td>0.077143</td>\n",
              "      <td>0.090402</td>\n",
              "    </tr>\n",
              "    <tr>\n",
              "      <th>IWD</th>\n",
              "      <td>0.098100</td>\n",
              "      <td>0.125666</td>\n",
              "      <td>0.135838</td>\n",
              "    </tr>\n",
              "    <tr>\n",
              "      <th>IWN</th>\n",
              "      <td>0.113387</td>\n",
              "      <td>0.136905</td>\n",
              "      <td>0.081951</td>\n",
              "    </tr>\n",
              "    <tr>\n",
              "      <th>IWO</th>\n",
              "      <td>0.114000</td>\n",
              "      <td>0.143643</td>\n",
              "      <td>0.125248</td>\n",
              "    </tr>\n",
              "    <tr>\n",
              "      <th>MBB</th>\n",
              "      <td>0.001005</td>\n",
              "      <td>0.013750</td>\n",
              "      <td>0.037643</td>\n",
              "    </tr>\n",
              "    <tr>\n",
              "      <th>MCHI</th>\n",
              "      <td>0.039336</td>\n",
              "      <td>0.103857</td>\n",
              "      <td>0.133967</td>\n",
              "    </tr>\n",
              "    <tr>\n",
              "      <th>TLT</th>\n",
              "      <td>-0.020313</td>\n",
              "      <td>-0.008156</td>\n",
              "      <td>-0.015929</td>\n",
              "    </tr>\n",
              "    <tr>\n",
              "      <th>XLE</th>\n",
              "      <td>0.113177</td>\n",
              "      <td>0.112478</td>\n",
              "      <td>0.089805</td>\n",
              "    </tr>\n",
              "    <tr>\n",
              "      <th>XLF</th>\n",
              "      <td>0.142368</td>\n",
              "      <td>0.184820</td>\n",
              "      <td>0.207169</td>\n",
              "    </tr>\n",
              "    <tr>\n",
              "      <th>XLV</th>\n",
              "      <td>0.075465</td>\n",
              "      <td>0.100274</td>\n",
              "      <td>0.081920</td>\n",
              "    </tr>\n",
              "    <tr>\n",
              "      <th>XLY</th>\n",
              "      <td>0.105498</td>\n",
              "      <td>0.158428</td>\n",
              "      <td>0.228448</td>\n",
              "    </tr>\n",
              "  </tbody>\n",
              "</table>\n",
              "</div>\n",
              "    <div class=\"colab-df-buttons\">\n",
              "\n",
              "  <div class=\"colab-df-container\">\n",
              "    <button class=\"colab-df-convert\" onclick=\"convertToInteractive('df-727af53e-3643-421e-bd97-58f75d87683c')\"\n",
              "            title=\"Convert this dataframe to an interactive table.\"\n",
              "            style=\"display:none;\">\n",
              "\n",
              "  <svg xmlns=\"http://www.w3.org/2000/svg\" height=\"24px\" viewBox=\"0 -960 960 960\">\n",
              "    <path d=\"M120-120v-720h720v720H120Zm60-500h600v-160H180v160Zm220 220h160v-160H400v160Zm0 220h160v-160H400v160ZM180-400h160v-160H180v160Zm440 0h160v-160H620v160ZM180-180h160v-160H180v160Zm440 0h160v-160H620v160Z\"/>\n",
              "  </svg>\n",
              "    </button>\n",
              "\n",
              "  <style>\n",
              "    .colab-df-container {\n",
              "      display:flex;\n",
              "      gap: 12px;\n",
              "    }\n",
              "\n",
              "    .colab-df-convert {\n",
              "      background-color: #E8F0FE;\n",
              "      border: none;\n",
              "      border-radius: 50%;\n",
              "      cursor: pointer;\n",
              "      display: none;\n",
              "      fill: #1967D2;\n",
              "      height: 32px;\n",
              "      padding: 0 0 0 0;\n",
              "      width: 32px;\n",
              "    }\n",
              "\n",
              "    .colab-df-convert:hover {\n",
              "      background-color: #E2EBFA;\n",
              "      box-shadow: 0px 1px 2px rgba(60, 64, 67, 0.3), 0px 1px 3px 1px rgba(60, 64, 67, 0.15);\n",
              "      fill: #174EA6;\n",
              "    }\n",
              "\n",
              "    .colab-df-buttons div {\n",
              "      margin-bottom: 4px;\n",
              "    }\n",
              "\n",
              "    [theme=dark] .colab-df-convert {\n",
              "      background-color: #3B4455;\n",
              "      fill: #D2E3FC;\n",
              "    }\n",
              "\n",
              "    [theme=dark] .colab-df-convert:hover {\n",
              "      background-color: #434B5C;\n",
              "      box-shadow: 0px 1px 3px 1px rgba(0, 0, 0, 0.15);\n",
              "      filter: drop-shadow(0px 1px 2px rgba(0, 0, 0, 0.3));\n",
              "      fill: #FFFFFF;\n",
              "    }\n",
              "  </style>\n",
              "\n",
              "    <script>\n",
              "      const buttonEl =\n",
              "        document.querySelector('#df-727af53e-3643-421e-bd97-58f75d87683c button.colab-df-convert');\n",
              "      buttonEl.style.display =\n",
              "        google.colab.kernel.accessAllowed ? 'block' : 'none';\n",
              "\n",
              "      async function convertToInteractive(key) {\n",
              "        const element = document.querySelector('#df-727af53e-3643-421e-bd97-58f75d87683c');\n",
              "        const dataTable =\n",
              "          await google.colab.kernel.invokeFunction('convertToInteractive',\n",
              "                                                    [key], {});\n",
              "        if (!dataTable) return;\n",
              "\n",
              "        const docLinkHtml = 'Like what you see? Visit the ' +\n",
              "          '<a target=\"_blank\" href=https://colab.research.google.com/notebooks/data_table.ipynb>data table notebook</a>'\n",
              "          + ' to learn more about interactive tables.';\n",
              "        element.innerHTML = '';\n",
              "        dataTable['output_type'] = 'display_data';\n",
              "        await google.colab.output.renderOutput(dataTable, element);\n",
              "        const docLink = document.createElement('div');\n",
              "        docLink.innerHTML = docLinkHtml;\n",
              "        element.appendChild(docLink);\n",
              "      }\n",
              "    </script>\n",
              "  </div>\n",
              "\n",
              "\n",
              "<div id=\"df-286f5c5e-d2f8-4064-8b5e-508004b02e89\">\n",
              "  <button class=\"colab-df-quickchart\" onclick=\"quickchart('df-286f5c5e-d2f8-4064-8b5e-508004b02e89')\"\n",
              "            title=\"Suggest charts\"\n",
              "            style=\"display:none;\">\n",
              "\n",
              "<svg xmlns=\"http://www.w3.org/2000/svg\" height=\"24px\"viewBox=\"0 0 24 24\"\n",
              "     width=\"24px\">\n",
              "    <g>\n",
              "        <path d=\"M19 3H5c-1.1 0-2 .9-2 2v14c0 1.1.9 2 2 2h14c1.1 0 2-.9 2-2V5c0-1.1-.9-2-2-2zM9 17H7v-7h2v7zm4 0h-2V7h2v10zm4 0h-2v-4h2v4z\"/>\n",
              "    </g>\n",
              "</svg>\n",
              "  </button>\n",
              "\n",
              "<style>\n",
              "  .colab-df-quickchart {\n",
              "      --bg-color: #E8F0FE;\n",
              "      --fill-color: #1967D2;\n",
              "      --hover-bg-color: #E2EBFA;\n",
              "      --hover-fill-color: #174EA6;\n",
              "      --disabled-fill-color: #AAA;\n",
              "      --disabled-bg-color: #DDD;\n",
              "  }\n",
              "\n",
              "  [theme=dark] .colab-df-quickchart {\n",
              "      --bg-color: #3B4455;\n",
              "      --fill-color: #D2E3FC;\n",
              "      --hover-bg-color: #434B5C;\n",
              "      --hover-fill-color: #FFFFFF;\n",
              "      --disabled-bg-color: #3B4455;\n",
              "      --disabled-fill-color: #666;\n",
              "  }\n",
              "\n",
              "  .colab-df-quickchart {\n",
              "    background-color: var(--bg-color);\n",
              "    border: none;\n",
              "    border-radius: 50%;\n",
              "    cursor: pointer;\n",
              "    display: none;\n",
              "    fill: var(--fill-color);\n",
              "    height: 32px;\n",
              "    padding: 0;\n",
              "    width: 32px;\n",
              "  }\n",
              "\n",
              "  .colab-df-quickchart:hover {\n",
              "    background-color: var(--hover-bg-color);\n",
              "    box-shadow: 0 1px 2px rgba(60, 64, 67, 0.3), 0 1px 3px 1px rgba(60, 64, 67, 0.15);\n",
              "    fill: var(--button-hover-fill-color);\n",
              "  }\n",
              "\n",
              "  .colab-df-quickchart-complete:disabled,\n",
              "  .colab-df-quickchart-complete:disabled:hover {\n",
              "    background-color: var(--disabled-bg-color);\n",
              "    fill: var(--disabled-fill-color);\n",
              "    box-shadow: none;\n",
              "  }\n",
              "\n",
              "  .colab-df-spinner {\n",
              "    border: 2px solid var(--fill-color);\n",
              "    border-color: transparent;\n",
              "    border-bottom-color: var(--fill-color);\n",
              "    animation:\n",
              "      spin 1s steps(1) infinite;\n",
              "  }\n",
              "\n",
              "  @keyframes spin {\n",
              "    0% {\n",
              "      border-color: transparent;\n",
              "      border-bottom-color: var(--fill-color);\n",
              "      border-left-color: var(--fill-color);\n",
              "    }\n",
              "    20% {\n",
              "      border-color: transparent;\n",
              "      border-left-color: var(--fill-color);\n",
              "      border-top-color: var(--fill-color);\n",
              "    }\n",
              "    30% {\n",
              "      border-color: transparent;\n",
              "      border-left-color: var(--fill-color);\n",
              "      border-top-color: var(--fill-color);\n",
              "      border-right-color: var(--fill-color);\n",
              "    }\n",
              "    40% {\n",
              "      border-color: transparent;\n",
              "      border-right-color: var(--fill-color);\n",
              "      border-top-color: var(--fill-color);\n",
              "    }\n",
              "    60% {\n",
              "      border-color: transparent;\n",
              "      border-right-color: var(--fill-color);\n",
              "    }\n",
              "    80% {\n",
              "      border-color: transparent;\n",
              "      border-right-color: var(--fill-color);\n",
              "      border-bottom-color: var(--fill-color);\n",
              "    }\n",
              "    90% {\n",
              "      border-color: transparent;\n",
              "      border-bottom-color: var(--fill-color);\n",
              "    }\n",
              "  }\n",
              "</style>\n",
              "\n",
              "  <script>\n",
              "    async function quickchart(key) {\n",
              "      const quickchartButtonEl =\n",
              "        document.querySelector('#' + key + ' button');\n",
              "      quickchartButtonEl.disabled = true;  // To prevent multiple clicks.\n",
              "      quickchartButtonEl.classList.add('colab-df-spinner');\n",
              "      try {\n",
              "        const charts = await google.colab.kernel.invokeFunction(\n",
              "            'suggestCharts', [key], {});\n",
              "      } catch (error) {\n",
              "        console.error('Error during call to suggestCharts:', error);\n",
              "      }\n",
              "      quickchartButtonEl.classList.remove('colab-df-spinner');\n",
              "      quickchartButtonEl.classList.add('colab-df-quickchart-complete');\n",
              "    }\n",
              "    (() => {\n",
              "      let quickchartButtonEl =\n",
              "        document.querySelector('#df-286f5c5e-d2f8-4064-8b5e-508004b02e89 button');\n",
              "      quickchartButtonEl.style.display =\n",
              "        google.colab.kernel.accessAllowed ? 'block' : 'none';\n",
              "    })();\n",
              "  </script>\n",
              "</div>\n",
              "\n",
              "  <div id=\"id_3f222d41-57f5-4058-a8b0-7b754e48862f\">\n",
              "    <style>\n",
              "      .colab-df-generate {\n",
              "        background-color: #E8F0FE;\n",
              "        border: none;\n",
              "        border-radius: 50%;\n",
              "        cursor: pointer;\n",
              "        display: none;\n",
              "        fill: #1967D2;\n",
              "        height: 32px;\n",
              "        padding: 0 0 0 0;\n",
              "        width: 32px;\n",
              "      }\n",
              "\n",
              "      .colab-df-generate:hover {\n",
              "        background-color: #E2EBFA;\n",
              "        box-shadow: 0px 1px 2px rgba(60, 64, 67, 0.3), 0px 1px 3px 1px rgba(60, 64, 67, 0.15);\n",
              "        fill: #174EA6;\n",
              "      }\n",
              "\n",
              "      [theme=dark] .colab-df-generate {\n",
              "        background-color: #3B4455;\n",
              "        fill: #D2E3FC;\n",
              "      }\n",
              "\n",
              "      [theme=dark] .colab-df-generate:hover {\n",
              "        background-color: #434B5C;\n",
              "        box-shadow: 0px 1px 3px 1px rgba(0, 0, 0, 0.15);\n",
              "        filter: drop-shadow(0px 1px 2px rgba(0, 0, 0, 0.3));\n",
              "        fill: #FFFFFF;\n",
              "      }\n",
              "    </style>\n",
              "    <button class=\"colab-df-generate\" onclick=\"generateWithVariable('rets_df')\"\n",
              "            title=\"Generate code using this dataframe.\"\n",
              "            style=\"display:none;\">\n",
              "\n",
              "  <svg xmlns=\"http://www.w3.org/2000/svg\" height=\"24px\"viewBox=\"0 0 24 24\"\n",
              "       width=\"24px\">\n",
              "    <path d=\"M7,19H8.4L18.45,9,17,7.55,7,17.6ZM5,21V16.75L18.45,3.32a2,2,0,0,1,2.83,0l1.4,1.43a1.91,1.91,0,0,1,.58,1.4,1.91,1.91,0,0,1-.58,1.4L9.25,21ZM18.45,9,17,7.55Zm-12,3A5.31,5.31,0,0,0,4.9,8.1,5.31,5.31,0,0,0,1,6.5,5.31,5.31,0,0,0,4.9,4.9,5.31,5.31,0,0,0,6.5,1,5.31,5.31,0,0,0,8.1,4.9,5.31,5.31,0,0,0,12,6.5,5.46,5.46,0,0,0,6.5,12Z\"/>\n",
              "  </svg>\n",
              "    </button>\n",
              "    <script>\n",
              "      (() => {\n",
              "      const buttonEl =\n",
              "        document.querySelector('#id_3f222d41-57f5-4058-a8b0-7b754e48862f button.colab-df-generate');\n",
              "      buttonEl.style.display =\n",
              "        google.colab.kernel.accessAllowed ? 'block' : 'none';\n",
              "\n",
              "      buttonEl.onclick = () => {\n",
              "        google.colab.notebook.generateWithVariable('rets_df');\n",
              "      }\n",
              "      })();\n",
              "    </script>\n",
              "  </div>\n",
              "\n",
              "    </div>\n",
              "  </div>\n"
            ],
            "text/plain": [
              "         Prior  Posterior     Views\n",
              "INDY  0.042819   0.077143  0.090402\n",
              "IWD   0.098100   0.125666  0.135838\n",
              "IWN   0.113387   0.136905  0.081951\n",
              "IWO   0.114000   0.143643  0.125248\n",
              "MBB   0.001005   0.013750  0.037643\n",
              "MCHI  0.039336   0.103857  0.133967\n",
              "TLT  -0.020313  -0.008156 -0.015929\n",
              "XLE   0.113177   0.112478  0.089805\n",
              "XLF   0.142368   0.184820  0.207169\n",
              "XLV   0.075465   0.100274  0.081920\n",
              "XLY   0.105498   0.158428  0.228448"
            ]
          },
          "execution_count": 62,
          "metadata": {},
          "output_type": "execute_result"
        }
      ],
      "source": [
        "rets_df = pd.DataFrame([market_prior, ret_bl, pd.Series(viewdict)],\n",
        "             index=[\"Prior\", \"Posterior\", \"Views\"]).T\n",
        "rets_df"
      ]
    },
    {
      "cell_type": "code",
      "execution_count": 63,
      "metadata": {
        "colab": {
          "base_uri": "https://localhost:8080/",
          "height": 698
        },
        "id": "n55wKWFuAbNp",
        "outputId": "f1eda2c8-da4f-440c-8c21-a5c4a6ac9325"
      },
      "outputs": [
        {
          "data": {
            "image/png": "[encoded data removed]",
            "text/plain": [
              "<Figure size 1200x800 with 1 Axes>"
            ]
          },
          "metadata": {},
          "output_type": "display_data"
        }
      ],
      "source": [
        "rets_df.plot.bar(figsize=(12,8));"
      ]
    },
    {
      "cell_type": "markdown",
      "metadata": {
        "id": "fuizxt0NAbNp"
      },
      "source": [
        "Notice that the posterior is often between the prior and the views. This supports the fact that the BL method is essentially a Bayesian weighted-average of the prior and views, where the weight is determined by the confidence.\n",
        "\n",
        "A similar but less intuitive procedure can be used to produce the posterior covariance estimate:"
      ]
    },
    {
      "cell_type": "code",
      "execution_count": 64,
      "metadata": {
        "colab": {
          "base_uri": "https://localhost:8080/",
          "height": 487
        },
        "id": "i6S1l2-aAbNp",
        "outputId": "43d22074-90e4-452e-d76d-5e7f4be1bed4"
      },
      "outputs": [
        {
          "data": {
            "image/png": "[encoded data removed]",
            "text/plain": [
              "<Figure size 640x480 with 2 Axes>"
            ]
          },
          "metadata": {},
          "output_type": "display_data"
        }
      ],
      "source": [
        "S_bl = bl.bl_cov()\n",
        "plotting.plot_covariance(S_bl);"
      ]
    },
    {
      "cell_type": "markdown",
      "metadata": {
        "id": "YC9fNRAbAbNp"
      },
      "source": [
        "## Portfolio allocation\n",
        "\n",
        "Now that we have constructed our Black-Litterman posterior estimate, we can proceed to use any of the optimizers discussed in previous recipes."
      ]
    },
    {
      "cell_type": "code",
      "execution_count": 65,
      "metadata": {
        "id": "hDS0vIUCAbNp"
      },
      "outputs": [],
      "source": [
        "from pypfopt import EfficientFrontier, objective_functions"
      ]
    },
    {
      "cell_type": "code",
      "execution_count": 66,
      "metadata": {
        "colab": {
          "base_uri": "https://localhost:8080/"
        },
        "id": "qylII3-oAbNp",
        "outputId": "61be589b-5357-4c35-b225-335cd3ba4e79"
      },
      "outputs": [
        {
          "name": "stderr",
          "output_type": "stream",
          "text": [
            "/usr/local/lib/python3.11/dist-packages/pypfopt/efficient_frontier/efficient_frontier.py:259: UserWarning: max_sharpe transforms the optimization problem so additional objectives may not work as expected.\n",
            "  warnings.warn(\n"
          ]
        },
        {
          "data": {
            "text/plain": [
              "OrderedDict([('INDY', 0.06921),\n",
              "             ('IWD', 0.10767),\n",
              "             ('IWN', 0.1136),\n",
              "             ('IWO', 0.12025),\n",
              "             ('MBB', 0.01532),\n",
              "             ('MCHI', 0.0992),\n",
              "             ('TLT', 0.0),\n",
              "             ('XLE', 0.08689),\n",
              "             ('XLF', 0.15987),\n",
              "             ('XLV', 0.08716),\n",
              "             ('XLY', 0.14083)])"
            ]
          },
          "execution_count": 66,
          "metadata": {},
          "output_type": "execute_result"
        }
      ],
      "source": [
        "ef = EfficientFrontier(ret_bl, S_bl)\n",
        "ef.add_objective(objective_functions.L2_reg)\n",
        "ef.max_sharpe()\n",
        "weights = ef.clean_weights()\n",
        "weights"
      ]
    },
    {
      "cell_type": "code",
      "execution_count": 69,
      "metadata": {
        "colab": {
          "base_uri": "https://localhost:8080/",
          "height": 807
        },
        "id": "9_pWobQoAbNq",
        "outputId": "9b36fdad-dbd0-43e4-d9be-2f2bbb46e524"
      },
      "outputs": [
        {
          "data": {
            "image/png": "[encoded data removed]",
            "text/plain": [
              "<Figure size 1000x1000 with 1 Axes>"
            ]
          },
          "metadata": {},
          "output_type": "display_data"
        }
      ],
      "source": [
        "pd.Series(weights).plot.pie(figsize=(10,10,),autopct='%1.1f%%');"
      ]
    },
    {
      "cell_type": "code",
      "execution_count": 68,
      "metadata": {
        "colab": {
          "base_uri": "https://localhost:8080/"
        },
        "id": "8YHugSK8AbNq",
        "outputId": "6dc79089-2225-4c4a-f467-fe10bc5f2aad"
      },
      "outputs": [
        {
          "name": "stdout",
          "output_type": "stream",
          "text": [
            "Leftover: $0.95\n"
          ]
        },
        {
          "data": {
            "text/plain": [
              "{'INDY': 28,\n",
              " 'IWD': 11,\n",
              " 'IWN': 14,\n",
              " 'IWO': 9,\n",
              " 'MBB': 3,\n",
              " 'MCHI': 35,\n",
              " 'XLE': 19,\n",
              " 'XLF': 62,\n",
              " 'XLV': 12,\n",
              " 'XLY': 13}"
            ]
          },
          "execution_count": 68,
          "metadata": {},
          "output_type": "execute_result"
        }
      ],
      "source": [
        "from pypfopt import DiscreteAllocation\n",
        "\n",
        "da = DiscreteAllocation(weights, prices.iloc[-1], total_portfolio_value=20000)\n",
        "alloc, leftover = da.lp_portfolio()\n",
        "print(f\"Leftover: ${leftover:.2f}\")\n",
        "alloc"
      ]
    },
    {
      "cell_type": "code",
      "execution_count": null,
      "metadata": {
        "id": "2OOB9eSSF3On"
      },
      "outputs": [],
      "source": []
    }
  ],
  "metadata": {
    "colab": {
      "name": "4-Black-Litterman-Allocation.ipynb",
      "provenance": []
    },
    "kernelspec": {
      "display_name": "Python 3",
      "name": "python3"
    },
    "language_info": {
      "codemirror_mode": {
        "name": "ipython",
        "version": 3
      },
      "file_extension": ".py",
      "mimetype": "text/x-python",
      "name": "python",
      "nbconvert_exporter": "python",
      "pygments_lexer": "ipython3",
      "version": "3.12.4"
    }
  },
  "nbformat": 4,
  "nbformat_minor": 0
}
