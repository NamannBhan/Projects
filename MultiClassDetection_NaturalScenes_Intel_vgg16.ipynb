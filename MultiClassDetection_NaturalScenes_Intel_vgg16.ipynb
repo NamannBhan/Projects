{
 "cells": [
  {
   "cell_type": "code",
   "execution_count": 1,
   "metadata": {
    "_cell_guid": "b1076dfc-b9ad-4769-8c92-a6c4dae69d19",
    "_uuid": "8f2839f25d086af736a60e9eeb907d3b93b6e0e5",
    "execution": {
     "iopub.execute_input": "2024-02-01T10:36:27.505771Z",
     "iopub.status.busy": "2024-02-01T10:36:27.504889Z",
     "iopub.status.idle": "2024-02-01T10:36:40.383140Z",
     "shell.execute_reply": "2024-02-01T10:36:40.382380Z",
     "shell.execute_reply.started": "2024-02-01T10:36:27.505735Z"
    }
   },
   "outputs": [
    {
     "name": "stderr",
     "output_type": "stream",
     "text": [
      "2024-02-01 10:36:30.001942: E external/local_xla/xla/stream_executor/cuda/cuda_dnn.cc:9261] Unable to register cuDNN factory: Attempting to register factory for plugin cuDNN when one has already been registered\n",
      "2024-02-01 10:36:30.002037: E external/local_xla/xla/stream_executor/cuda/cuda_fft.cc:607] Unable to register cuFFT factory: Attempting to register factory for plugin cuFFT when one has already been registered\n",
      "2024-02-01 10:36:30.122762: E external/local_xla/xla/stream_executor/cuda/cuda_blas.cc:1515] Unable to register cuBLAS factory: Attempting to register factory for plugin cuBLAS when one has already been registered\n"
     ]
    }
   ],
   "source": [
    "import pandas as pd\n",
    "import numpy as np\n",
    "import matplotlib.pyplot as plt\n",
    "import tensorflow as tf\n",
    "from tensorflow import keras\n",
    "from keras.models import Sequential,Model\n",
    "from keras.layers import Dense,Flatten\n",
    "from keras.applications import VGG16\n",
    "from keras.preprocessing.image import ImageDataGenerator"
   ]
  },
  {
   "cell_type": "code",
   "execution_count": 2,
   "metadata": {
    "execution": {
     "iopub.execute_input": "2024-02-01T10:37:34.666411Z",
     "iopub.status.busy": "2024-02-01T10:37:34.665475Z",
     "iopub.status.idle": "2024-02-01T10:37:34.670641Z",
     "shell.execute_reply": "2024-02-01T10:37:34.669640Z",
     "shell.execute_reply.started": "2024-02-01T10:37:34.666378Z"
    }
   },
   "outputs": [],
   "source": [
    "train_path='/kaggle/input/intel-image-classification/seg_train/seg_train'\n",
    "validation_path='/kaggle/input/intel-image-classification/seg_test/seg_test'"
   ]
  },
  {
   "cell_type": "code",
   "execution_count": 3,
   "metadata": {
    "execution": {
     "iopub.execute_input": "2024-02-01T10:38:14.387302Z",
     "iopub.status.busy": "2024-02-01T10:38:14.386947Z",
     "iopub.status.idle": "2024-02-01T10:38:14.391865Z",
     "shell.execute_reply": "2024-02-01T10:38:14.390863Z",
     "shell.execute_reply.started": "2024-02-01T10:38:14.387273Z"
    }
   },
   "outputs": [],
   "source": [
    "image_size=[224,224]"
   ]
  },
  {
   "cell_type": "code",
   "execution_count": 4,
   "metadata": {
    "execution": {
     "iopub.execute_input": "2024-02-01T10:39:03.367679Z",
     "iopub.status.busy": "2024-02-01T10:39:03.367307Z",
     "iopub.status.idle": "2024-02-01T10:39:06.012189Z",
     "shell.execute_reply": "2024-02-01T10:39:06.011106Z",
     "shell.execute_reply.started": "2024-02-01T10:39:03.367650Z"
    }
   },
   "outputs": [
    {
     "name": "stdout",
     "output_type": "stream",
     "text": [
      "Downloading data from https://storage.googleapis.com/tensorflow/keras-applications/vgg16/vgg16_weights_tf_dim_ordering_tf_kernels_notop.h5\n",
      "58889256/58889256 [==============================] - 1s 0us/step\n"
     ]
    }
   ],
   "source": [
    "vgg=VGG16(input_shape=image_size+[3],weights='imagenet',include_top=False)"
   ]
  },
  {
   "cell_type": "code",
   "execution_count": 6,
   "metadata": {
    "execution": {
     "iopub.execute_input": "2024-02-01T10:44:09.313176Z",
     "iopub.status.busy": "2024-02-01T10:44:09.312682Z",
     "iopub.status.idle": "2024-02-01T10:44:09.318798Z",
     "shell.execute_reply": "2024-02-01T10:44:09.317598Z",
     "shell.execute_reply.started": "2024-02-01T10:44:09.313139Z"
    }
   },
   "outputs": [],
   "source": [
    "for layer in vgg.layers:\n",
    "    layer.trainable=False"
   ]
  },
  {
   "cell_type": "code",
   "execution_count": 7,
   "metadata": {
    "execution": {
     "iopub.execute_input": "2024-02-01T10:44:21.547377Z",
     "iopub.status.busy": "2024-02-01T10:44:21.547045Z",
     "iopub.status.idle": "2024-02-01T10:44:21.551497Z",
     "shell.execute_reply": "2024-02-01T10:44:21.550585Z",
     "shell.execute_reply.started": "2024-02-01T10:44:21.547351Z"
    }
   },
   "outputs": [],
   "source": [
    "from glob import glob"
   ]
  },
  {
   "cell_type": "code",
   "execution_count": 8,
   "metadata": {
    "execution": {
     "iopub.execute_input": "2024-02-01T10:44:38.383346Z",
     "iopub.status.busy": "2024-02-01T10:44:38.382729Z",
     "iopub.status.idle": "2024-02-01T10:44:38.404249Z",
     "shell.execute_reply": "2024-02-01T10:44:38.403576Z",
     "shell.execute_reply.started": "2024-02-01T10:44:38.383304Z"
    }
   },
   "outputs": [],
   "source": [
    "folders=glob('/kaggle/input/intel-image-classification/seg_train/seg_train/*')"
   ]
  },
  {
   "cell_type": "code",
   "execution_count": 9,
   "metadata": {
    "execution": {
     "iopub.execute_input": "2024-02-01T10:44:44.684127Z",
     "iopub.status.busy": "2024-02-01T10:44:44.683274Z",
     "iopub.status.idle": "2024-02-01T10:44:44.690755Z",
     "shell.execute_reply": "2024-02-01T10:44:44.689684Z",
     "shell.execute_reply.started": "2024-02-01T10:44:44.684096Z"
    }
   },
   "outputs": [
    {
     "data": {
      "text/plain": [
       "6"
      ]
     },
     "execution_count": 9,
     "metadata": {},
     "output_type": "execute_result"
    }
   ],
   "source": [
    "len(folders)"
   ]
  },
  {
   "cell_type": "code",
   "execution_count": 10,
   "metadata": {
    "execution": {
     "iopub.execute_input": "2024-02-01T11:03:14.323693Z",
     "iopub.status.busy": "2024-02-01T11:03:14.322894Z",
     "iopub.status.idle": "2024-02-01T11:03:14.327763Z",
     "shell.execute_reply": "2024-02-01T11:03:14.326764Z",
     "shell.execute_reply.started": "2024-02-01T11:03:14.323660Z"
    }
   },
   "outputs": [],
   "source": [
    "from keras.applications.vgg16 import preprocess_input"
   ]
  },
  {
   "cell_type": "code",
   "execution_count": 13,
   "metadata": {
    "execution": {
     "iopub.execute_input": "2024-02-01T11:08:34.573068Z",
     "iopub.status.busy": "2024-02-01T11:08:34.572137Z",
     "iopub.status.idle": "2024-02-01T11:08:34.653872Z",
     "shell.execute_reply": "2024-02-01T11:08:34.652930Z",
     "shell.execute_reply.started": "2024-02-01T11:08:34.573034Z"
    }
   },
   "outputs": [
    {
     "name": "stdout",
     "output_type": "stream",
     "text": [
      "Model: \"model\"\n",
      "_________________________________________________________________\n",
      " Layer (type)                Output Shape              Param #   \n",
      "=================================================================\n",
      " input_1 (InputLayer)        [(None, 224, 224, 3)]     0         \n",
      "                                                                 \n",
      " block1_conv1 (Conv2D)       (None, 224, 224, 64)      1792      \n",
      "                                                                 \n",
      " block1_conv2 (Conv2D)       (None, 224, 224, 64)      36928     \n",
      "                                                                 \n",
      " block1_pool (MaxPooling2D)  (None, 112, 112, 64)      0         \n",
      "                                                                 \n",
      " block2_conv1 (Conv2D)       (None, 112, 112, 128)     73856     \n",
      "                                                                 \n",
      " block2_conv2 (Conv2D)       (None, 112, 112, 128)     147584    \n",
      "                                                                 \n",
      " block2_pool (MaxPooling2D)  (None, 56, 56, 128)       0         \n",
      "                                                                 \n",
      " block3_conv1 (Conv2D)       (None, 56, 56, 256)       295168    \n",
      "                                                                 \n",
      " block3_conv2 (Conv2D)       (None, 56, 56, 256)       590080    \n",
      "                                                                 \n",
      " block3_conv3 (Conv2D)       (None, 56, 56, 256)       590080    \n",
      "                                                                 \n",
      " block3_pool (MaxPooling2D)  (None, 28, 28, 256)       0         \n",
      "                                                                 \n",
      " block4_conv1 (Conv2D)       (None, 28, 28, 512)       1180160   \n",
      "                                                                 \n",
      " block4_conv2 (Conv2D)       (None, 28, 28, 512)       2359808   \n",
      "                                                                 \n",
      " block4_conv3 (Conv2D)       (None, 28, 28, 512)       2359808   \n",
      "                                                                 \n",
      " block4_pool (MaxPooling2D)  (None, 14, 14, 512)       0         \n",
      "                                                                 \n",
      " block5_conv1 (Conv2D)       (None, 14, 14, 512)       2359808   \n",
      "                                                                 \n",
      " block5_conv2 (Conv2D)       (None, 14, 14, 512)       2359808   \n",
      "                                                                 \n",
      " block5_conv3 (Conv2D)       (None, 14, 14, 512)       2359808   \n",
      "                                                                 \n",
      " block5_pool (MaxPooling2D)  (None, 7, 7, 512)         0         \n",
      "                                                                 \n",
      " flatten (Flatten)           (None, 25088)             0         \n",
      "                                                                 \n",
      " dense (Dense)               (None, 6)                 150534    \n",
      "                                                                 \n",
      "=================================================================\n",
      "Total params: 14865222 (56.71 MB)\n",
      "Trainable params: 150534 (588.02 KB)\n",
      "Non-trainable params: 14714688 (56.13 MB)\n",
      "_________________________________________________________________\n"
     ]
    }
   ],
   "source": [
    "x=Flatten()(vgg.output)\n",
    "prediction=Dense(len(folders),activation='softmax')(x)\n",
    "model=Model(inputs=vgg.input,outputs=prediction)\n",
    "model.summary()"
   ]
  },
  {
   "cell_type": "code",
   "execution_count": 14,
   "metadata": {
    "execution": {
     "iopub.execute_input": "2024-02-01T11:09:07.925743Z",
     "iopub.status.busy": "2024-02-01T11:09:07.924764Z",
     "iopub.status.idle": "2024-02-01T11:09:07.949209Z",
     "shell.execute_reply": "2024-02-01T11:09:07.948220Z",
     "shell.execute_reply.started": "2024-02-01T11:09:07.925708Z"
    }
   },
   "outputs": [],
   "source": [
    "model.compile(loss='categorical_crossentropy',optimizer='adam',metrics=['accuracy'])"
   ]
  },
  {
   "cell_type": "code",
   "execution_count": 11,
   "metadata": {
    "execution": {
     "iopub.execute_input": "2024-02-01T11:04:24.934548Z",
     "iopub.status.busy": "2024-02-01T11:04:24.933648Z",
     "iopub.status.idle": "2024-02-01T11:04:24.941627Z",
     "shell.execute_reply": "2024-02-01T11:04:24.940558Z",
     "shell.execute_reply.started": "2024-02-01T11:04:24.934508Z"
    }
   },
   "outputs": [],
   "source": [
    "train_datagen=ImageDataGenerator(preprocessing_function=preprocess_input\n",
    "                                 ,rotation_range=0,\n",
    "                                width_shift_range=0.2,\n",
    "                                height_shift_range=0.2,\n",
    "                                brightness_range=None,\n",
    "                                shear_range=0.2,\n",
    "                                zoom_range=0.2,\n",
    "                                channel_shift_range=0.2,\n",
    "                                fill_mode='nearest',\n",
    "                                cval=0.0,\n",
    "                                horizontal_flip=True)\n",
    "\n",
    "validation_datagen=ImageDataGenerator(preprocessing_function=preprocess_input\n",
    "                                 ,rotation_range=0,\n",
    "                                width_shift_range=0.2,\n",
    "                                height_shift_range=0.2,\n",
    "                                brightness_range=None,\n",
    "                                shear_range=0.2,\n",
    "                                zoom_range=0.2,\n",
    "                                channel_shift_range=0.2,\n",
    "                                fill_mode='nearest',\n",
    "                                cval=0.0,\n",
    "                                horizontal_flip=True)"
   ]
  },
  {
   "cell_type": "code",
   "execution_count": 12,
   "metadata": {
    "execution": {
     "iopub.execute_input": "2024-02-01T11:06:53.132651Z",
     "iopub.status.busy": "2024-02-01T11:06:53.131950Z",
     "iopub.status.idle": "2024-02-01T11:06:59.865108Z",
     "shell.execute_reply": "2024-02-01T11:06:59.864334Z",
     "shell.execute_reply.started": "2024-02-01T11:06:53.132618Z"
    }
   },
   "outputs": [
    {
     "name": "stdout",
     "output_type": "stream",
     "text": [
      "Found 14034 images belonging to 6 classes.\n",
      "Found 3000 images belonging to 6 classes.\n"
     ]
    }
   ],
   "source": [
    "train_ds=train_datagen.flow_from_directory(directory=train_path,\n",
    "                                           target_size=(224,224),\n",
    "                                           class_mode='categorical',\n",
    "                                           batch_size=32)\n",
    "\n",
    "validation_ds=validation_datagen.flow_from_directory(directory=validation_path,\n",
    "                                           target_size=(224,224),\n",
    "                                           class_mode='categorical',\n",
    "                                           batch_size=32)"
   ]
  },
  {
   "cell_type": "code",
   "execution_count": 16,
   "metadata": {
    "execution": {
     "iopub.execute_input": "2024-02-01T11:10:40.826185Z",
     "iopub.status.busy": "2024-02-01T11:10:40.825818Z",
     "iopub.status.idle": "2024-02-01T11:43:54.820187Z",
     "shell.execute_reply": "2024-02-01T11:43:54.819382Z",
     "shell.execute_reply.started": "2024-02-01T11:10:40.826153Z"
    }
   },
   "outputs": [
    {
     "name": "stdout",
     "output_type": "stream",
     "text": [
      "Epoch 1/10\n",
      "439/439 [==============================] - 266s 605ms/step - loss: 4.7235 - accuracy: 0.8556 - val_loss: 5.4692 - val_accuracy: 0.8703\n",
      "Epoch 2/10\n",
      "439/439 [==============================] - 192s 438ms/step - loss: 5.1924 - accuracy: 0.8784 - val_loss: 5.9760 - val_accuracy: 0.8807\n",
      "Epoch 3/10\n",
      "439/439 [==============================] - 194s 441ms/step - loss: 5.3412 - accuracy: 0.8896 - val_loss: 7.3776 - val_accuracy: 0.8653\n",
      "Epoch 4/10\n",
      "439/439 [==============================] - 192s 436ms/step - loss: 5.1840 - accuracy: 0.8946 - val_loss: 7.5336 - val_accuracy: 0.8763\n",
      "Epoch 5/10\n",
      "439/439 [==============================] - 193s 440ms/step - loss: 5.6756 - accuracy: 0.8926 - val_loss: 8.8112 - val_accuracy: 0.8697\n",
      "Epoch 6/10\n",
      "439/439 [==============================] - 190s 432ms/step - loss: 5.6063 - accuracy: 0.9007 - val_loss: 7.9790 - val_accuracy: 0.8887\n",
      "Epoch 7/10\n",
      "439/439 [==============================] - 191s 435ms/step - loss: 5.6223 - accuracy: 0.9007 - val_loss: 7.9054 - val_accuracy: 0.8787\n",
      "Epoch 8/10\n",
      "439/439 [==============================] - 192s 436ms/step - loss: 5.4695 - accuracy: 0.9091 - val_loss: 8.1217 - val_accuracy: 0.8910\n",
      "Epoch 9/10\n",
      "439/439 [==============================] - 193s 440ms/step - loss: 5.2427 - accuracy: 0.9073 - val_loss: 8.5417 - val_accuracy: 0.8867\n",
      "Epoch 10/10\n",
      "439/439 [==============================] - 192s 436ms/step - loss: 6.0018 - accuracy: 0.9067 - val_loss: 8.8267 - val_accuracy: 0.8837\n"
     ]
    }
   ],
   "source": [
    "model_history=model.fit(train_ds,validation_data=validation_ds,epochs=10)"
   ]
  },
  {
   "cell_type": "code",
   "execution_count": 17,
   "metadata": {
    "execution": {
     "iopub.execute_input": "2024-02-01T11:45:21.258147Z",
     "iopub.status.busy": "2024-02-01T11:45:21.257435Z",
     "iopub.status.idle": "2024-02-01T11:45:21.262319Z",
     "shell.execute_reply": "2024-02-01T11:45:21.261278Z",
     "shell.execute_reply.started": "2024-02-01T11:45:21.258114Z"
    }
   },
   "outputs": [],
   "source": [
    "import matplotlib.pyplot as plt"
   ]
  },
  {
   "cell_type": "code",
   "execution_count": 18,
   "metadata": {
    "execution": {
     "iopub.execute_input": "2024-02-01T11:46:10.045677Z",
     "iopub.status.busy": "2024-02-01T11:46:10.045078Z",
     "iopub.status.idle": "2024-02-01T11:46:10.238118Z",
     "shell.execute_reply": "2024-02-01T11:46:10.237246Z",
     "shell.execute_reply.started": "2024-02-01T11:46:10.045644Z"
    }
   },
   "outputs": [
    {
     "data": {
      "image/png": "[encoded data removed]",
      "text/plain": [
       "<Figure size 640x480 with 1 Axes>"
      ]
     },
     "metadata": {},
     "output_type": "display_data"
    }
   ],
   "source": [
    "plt.plot(model_history.history['accuracy'],label='training_acc')\n",
    "plt.plot(model_history.history['val_accuracy'],label='testing_acc')\n",
    "plt.legend()\n",
    "plt.show()"
   ]
  },
  {
   "cell_type": "code",
   "execution_count": 19,
   "metadata": {
    "execution": {
     "iopub.execute_input": "2024-02-01T11:46:40.506941Z",
     "iopub.status.busy": "2024-02-01T11:46:40.506567Z",
     "iopub.status.idle": "2024-02-01T11:46:40.683250Z",
     "shell.execute_reply": "2024-02-01T11:46:40.682375Z",
     "shell.execute_reply.started": "2024-02-01T11:46:40.506910Z"
    }
   },
   "outputs": [
    {
     "data": {
      "image/png": "[encoded data removed]",
      "text/plain": [
       "<Figure size 640x480 with 1 Axes>"
      ]
     },
     "metadata": {},
     "output_type": "display_data"
    }
   ],
   "source": [
    "plt.plot(model_history.history['loss'],label='training_loss')\n",
    "plt.plot(model_history.history['val_loss'],label='testing_loss')\n",
    "plt.legend()\n",
    "plt.show()"
   ]
  },
  {
   "cell_type": "code",
   "execution_count": 20,
   "metadata": {
    "execution": {
     "iopub.execute_input": "2024-02-01T11:46:55.279762Z",
     "iopub.status.busy": "2024-02-01T11:46:55.279045Z",
     "iopub.status.idle": "2024-02-01T11:46:55.284238Z",
     "shell.execute_reply": "2024-02-01T11:46:55.283088Z",
     "shell.execute_reply.started": "2024-02-01T11:46:55.279724Z"
    }
   },
   "outputs": [],
   "source": [
    "from keras.models import load_model"
   ]
  },
  {
   "cell_type": "code",
   "execution_count": 21,
   "metadata": {
    "execution": {
     "iopub.execute_input": "2024-02-01T11:47:23.015621Z",
     "iopub.status.busy": "2024-02-01T11:47:23.015059Z",
     "iopub.status.idle": "2024-02-01T11:47:23.377623Z",
     "shell.execute_reply": "2024-02-01T11:47:23.376419Z",
     "shell.execute_reply.started": "2024-02-01T11:47:23.015576Z"
    }
   },
   "outputs": [
    {
     "name": "stderr",
     "output_type": "stream",
     "text": [
      "/opt/conda/lib/python3.10/site-packages/keras/src/engine/training.py:3103: UserWarning: You are saving your model as an HDF5 file via `model.save()`. This file format is considered legacy. We recommend using instead the native Keras format, e.g. `model.save('my_model.keras')`.\n",
      "  saving_api.save_model(\n"
     ]
    }
   ],
   "source": [
    "model.save('intel_features.h5')"
   ]
  },
  {
   "cell_type": "code",
   "execution_count": 27,
   "metadata": {
    "execution": {
     "iopub.execute_input": "2024-02-01T12:02:15.779130Z",
     "iopub.status.busy": "2024-02-01T12:02:15.778738Z",
     "iopub.status.idle": "2024-02-01T12:02:15.783853Z",
     "shell.execute_reply": "2024-02-01T12:02:15.782723Z",
     "shell.execute_reply.started": "2024-02-01T12:02:15.779098Z"
    }
   },
   "outputs": [],
   "source": [
    "y_test=validation_ds.classes"
   ]
  },
  {
   "cell_type": "code",
   "execution_count": 28,
   "metadata": {
    "execution": {
     "iopub.execute_input": "2024-02-01T12:02:48.384319Z",
     "iopub.status.busy": "2024-02-01T12:02:48.383704Z",
     "iopub.status.idle": "2024-02-01T12:03:21.788836Z",
     "shell.execute_reply": "2024-02-01T12:03:21.787912Z",
     "shell.execute_reply.started": "2024-02-01T12:02:48.384289Z"
    }
   },
   "outputs": [
    {
     "name": "stdout",
     "output_type": "stream",
     "text": [
      "94/94 [==============================] - 33s 348ms/step\n"
     ]
    }
   ],
   "source": [
    "y_pred=model.predict(validation_ds)\n",
    "y_pred=np.argmax(y_pred,axis=1)"
   ]
  },
  {
   "cell_type": "code",
   "execution_count": 31,
   "metadata": {
    "execution": {
     "iopub.execute_input": "2024-02-01T12:06:41.757685Z",
     "iopub.status.busy": "2024-02-01T12:06:41.756788Z",
     "iopub.status.idle": "2024-02-01T12:06:41.763614Z",
     "shell.execute_reply": "2024-02-01T12:06:41.762566Z",
     "shell.execute_reply.started": "2024-02-01T12:06:41.757650Z"
    }
   },
   "outputs": [
    {
     "data": {
      "text/plain": [
       "array([0, 4, 3, ..., 4, 5, 5])"
      ]
     },
     "execution_count": 31,
     "metadata": {},
     "output_type": "execute_result"
    }
   ],
   "source": [
    "y_pred"
   ]
  },
  {
   "cell_type": "code",
   "execution_count": 60,
   "metadata": {
    "execution": {
     "iopub.execute_input": "2024-02-01T12:19:06.562967Z",
     "iopub.status.busy": "2024-02-01T12:19:06.562273Z",
     "iopub.status.idle": "2024-02-01T12:19:06.570131Z",
     "shell.execute_reply": "2024-02-01T12:19:06.569219Z",
     "shell.execute_reply.started": "2024-02-01T12:19:06.562931Z"
    }
   },
   "outputs": [],
   "source": [
    "test_img=cv2.imread('/kaggle/input/intel-image-classification/seg_test/seg_test/street/20075.jpg')"
   ]
  },
  {
   "cell_type": "code",
   "execution_count": 61,
   "metadata": {
    "execution": {
     "iopub.execute_input": "2024-02-01T12:19:10.259646Z",
     "iopub.status.busy": "2024-02-01T12:19:10.259291Z",
     "iopub.status.idle": "2024-02-01T12:19:10.264111Z",
     "shell.execute_reply": "2024-02-01T12:19:10.263176Z",
     "shell.execute_reply.started": "2024-02-01T12:19:10.259620Z"
    }
   },
   "outputs": [],
   "source": [
    "test_img=cv2.resize(test_img,(224,224))"
   ]
  },
  {
   "cell_type": "code",
   "execution_count": 62,
   "metadata": {
    "execution": {
     "iopub.execute_input": "2024-02-01T12:19:13.674015Z",
     "iopub.status.busy": "2024-02-01T12:19:13.673314Z",
     "iopub.status.idle": "2024-02-01T12:19:13.678174Z",
     "shell.execute_reply": "2024-02-01T12:19:13.677131Z",
     "shell.execute_reply.started": "2024-02-01T12:19:13.673985Z"
    }
   },
   "outputs": [],
   "source": [
    "test_input=test_img.reshape(1,224,224,3)"
   ]
  },
  {
   "cell_type": "code",
   "execution_count": 63,
   "metadata": {
    "execution": {
     "iopub.execute_input": "2024-02-01T12:19:17.375212Z",
     "iopub.status.busy": "2024-02-01T12:19:17.374861Z",
     "iopub.status.idle": "2024-02-01T12:19:17.453927Z",
     "shell.execute_reply": "2024-02-01T12:19:17.453030Z",
     "shell.execute_reply.started": "2024-02-01T12:19:17.375186Z"
    }
   },
   "outputs": [
    {
     "name": "stdout",
     "output_type": "stream",
     "text": [
      "1/1 [==============================] - 0s 19ms/step\n"
     ]
    },
    {
     "data": {
      "text/plain": [
       "array([[0., 0., 0., 0., 0., 1.]], dtype=float32)"
      ]
     },
     "execution_count": 63,
     "metadata": {},
     "output_type": "execute_result"
    }
   ],
   "source": [
    "model.predict(test_input)"
   ]
  },
  {
   "cell_type": "code",
   "execution_count": 64,
   "metadata": {
    "execution": {
     "iopub.execute_input": "2024-02-01T12:19:18.887634Z",
     "iopub.status.busy": "2024-02-01T12:19:18.886970Z",
     "iopub.status.idle": "2024-02-01T12:19:18.893411Z",
     "shell.execute_reply": "2024-02-01T12:19:18.892424Z",
     "shell.execute_reply.started": "2024-02-01T12:19:18.887600Z"
    }
   },
   "outputs": [],
   "source": [
    "categories=['buildings','forest','glacier','mountain','sea','street']"
   ]
  },
  {
   "cell_type": "code",
   "execution_count": 65,
   "metadata": {
    "execution": {
     "iopub.execute_input": "2024-02-01T12:19:20.039467Z",
     "iopub.status.busy": "2024-02-01T12:19:20.039081Z",
     "iopub.status.idle": "2024-02-01T12:19:20.117063Z",
     "shell.execute_reply": "2024-02-01T12:19:20.116258Z",
     "shell.execute_reply.started": "2024-02-01T12:19:20.039435Z"
    }
   },
   "outputs": [
    {
     "name": "stdout",
     "output_type": "stream",
     "text": [
      "1/1 [==============================] - 0s 19ms/step\n"
     ]
    },
    {
     "data": {
      "text/plain": [
       "'street'"
      ]
     },
     "execution_count": 65,
     "metadata": {},
     "output_type": "execute_result"
    }
   ],
   "source": [
    "pred_name=categories[np.argmax(model.predict(test_input))]\n",
    "pred_name"
   ]
  },
  {
   "cell_type": "code",
   "execution_count": null,
   "metadata": {},
   "outputs": [],
   "source": []
  }
 ],
 "metadata": {
  "kaggle": {
   "accelerator": "nvidiaTeslaT4",
   "dataSources": [
    {
     "datasetId": 111880,
     "sourceId": 269359,
     "sourceType": "datasetVersion"
    }
   ],
   "dockerImageVersionId": 30648,
   "isGpuEnabled": true,
   "isInternetEnabled": true,
   "language": "python",
   "sourceType": "notebook"
  },
  "kernelspec": {
   "display_name": "Python 3 (ipykernel)",
   "language": "python",
   "name": "python3"
  },
  "language_info": {
   "codemirror_mode": {
    "name": "ipython",
    "version": 3
   },
   "file_extension": ".py",
   "mimetype": "text/x-python",
   "name": "python",
   "nbconvert_exporter": "python",
   "pygments_lexer": "ipython3",
   "version": "3.11.5"
  }
 },
 "nbformat": 4,
 "nbformat_minor": 4
}
