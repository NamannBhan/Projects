{
  "nbformat": 4,
  "nbformat_minor": 0,
  "metadata": {
    "colab": {
      "provenance": []
    },
    "kernelspec": {
      "name": "python3",
      "display_name": "Python 3"
    },
    "language_info": {
      "name": "python"
    }
  },
  "cells": [
    {
      "cell_type": "code",
      "execution_count": 1,
      "metadata": {
        "id": "5R8zLdLnOMNQ"
      },
      "outputs": [],
      "source": [
        "import numpy as np\n",
        "import pandas as pd"
      ]
    },
    {
      "cell_type": "code",
      "source": [
        "from scipy.stats import norm"
      ],
      "metadata": {
        "id": "DLzgBQQCOQLw"
      },
      "execution_count": 2,
      "outputs": []
    },
    {
      "cell_type": "code",
      "source": [
        "def black_scholes_call(S,K,sigma,r,T):\n",
        "  d1=(np.log(S/K)+(r+(sigma**2)/2)*T)/(sigma*np.sqrt(T))\n",
        "  d2=d1-sigma*np.sqrt(T)\n",
        "  return S*norm.cdf(d1)-K*np.exp(-r*T)*norm.cdf(d2)"
      ],
      "metadata": {
        "id": "YQ6390qYORyY"
      },
      "execution_count": 3,
      "outputs": []
    },
    {
      "cell_type": "code",
      "source": [
        "def delta(S,K,sigma,r,T):\n",
        "  d1=(np.log(S/K)+(r+(sigma**2)/2)*T)/(sigma*np.sqrt(T))\n",
        "  return norm.cdf(d1)"
      ],
      "metadata": {
        "id": "TpiNJiuTPAkA"
      },
      "execution_count": 4,
      "outputs": []
    },
    {
      "cell_type": "markdown",
      "source": [
        "## heding delta via binomial"
      ],
      "metadata": {
        "id": "NKD7KVq4PKhs"
      }
    },
    {
      "cell_type": "code",
      "source": [
        "def delta_hedge_call(S,K,sigma,r,T,N):\n",
        "  dt=T/N\n",
        "  u=np.exp(sigma*np.sqrt(dt))\n",
        "  d=1/u\n",
        "  p=(np.exp(r*dt)-d)/(u-d)\n",
        "\n",
        "  #generating stock price tree\n",
        "  stock_tree=np.zeros((N+1,N+1))\n",
        "  for i in range(N+1):\n",
        "    for j in range(i+1):\n",
        "      stock_tree[j,i]=S*(u**(i-j))*(d**j)\n",
        "\n",
        "  #generating option value tree\n",
        "  option_tree=np.zeros((N+1,N+1))\n",
        "  for j in range(N+1):\n",
        "    option_tree[j,N]=np.maximum(stock_tree[j,N]-K,0)\n",
        "  for i in range(N-1,-1,-1):\n",
        "    for j in range(i+1):\n",
        "      option_tree[j,i]=np.exp(-r*dt)*(p*option_tree[j,i+1]+(1-p)*option_tree[j+1,i+1])\n",
        "\n",
        "  #simulating delta hedge\n",
        "  hedge=[]\n",
        "  stock_position=delta(S,K,sigma,r,T)*S\n",
        "  option_price=option_tree[0,0]\n",
        "  hedge.append(-option_price)\n",
        "  for i in range(N+1):\n",
        "    stock_price=stock_tree[0,i]"
      ],
      "metadata": {
        "id": "vq8k0l-_PFHf"
      },
      "execution_count": 6,
      "outputs": []
    },
    {
      "cell_type": "code",
      "source": [
        "import numpy as np\n",
        "\n",
        "# Define the input values\n",
        "S0 = 100      # Initial stock price\n",
        "u = 1.3499    # Up factor\n",
        "d = 0.7408    # Down factor\n",
        "p = 0.5097    # Probability of up move\n",
        "\n",
        "# Define the number of time steps and initialize the stock price tree\n",
        "n = 3\n",
        "stock_tree = np.zeros((n+1, n+1))\n",
        "stock_tree[0, 0] = S0\n",
        "\n",
        "# Fill in the stock price tree\n",
        "for i in range(1, n+1):\n",
        "    for j in range(i+1):\n",
        "        stock_tree[j, i] = S0 * u**(i-j) * d**j\n",
        "\n",
        "# Print the stock price tree\n",
        "print(\"Stock price tree:\")\n",
        "print(stock_tree)\n",
        "\n",
        "# Initialize the option price tree\n",
        "option_tree = np.zeros((n+1, n+1))\n",
        "\n",
        "# Fill in the option price tree at the final nodes\n",
        "for j in range(n+1):\n",
        "    option_tree[j, n] = max(stock_tree[j, n] - 100, 0)\n",
        "\n",
        "# Work backwards through the tree to calculate the option prices at each node\n",
        "for i in range(n-1, -1, -1):\n",
        "    for j in range(i+1):\n",
        "        option_tree[j, i] = np.exp(-0.06 * 1/3) * (p * option_tree[j, i+1] + (1-p) * option_tree[j+1, i+1])\n",
        "\n",
        "# Print the option price tree\n",
        "print(\"Option price tree:\")\n",
        "print(option_tree)"
      ],
      "metadata": {
        "colab": {
          "base_uri": "https://localhost:8080/"
        },
        "id": "matFSP1qUYwf",
        "outputId": "8b29c4ee-1023-4b29-e73c-b70bac12aef9"
      },
      "execution_count": 11,
      "outputs": [
        {
          "output_type": "stream",
          "name": "stdout",
          "text": [
            "Stock price tree:\n",
            "[[100.         134.99       182.223001   245.98282905]\n",
            " [  0.          74.08       100.000592   134.99079914]\n",
            " [  0.           0.          54.878464    74.08043855]\n",
            " [  0.           0.           0.          40.65396613]]\n",
            "Option price tree:\n",
            "[[ 30.79729065  53.24146579  89.75035926 145.98282905]\n",
            " [  0.           8.73396303  17.48165742  34.99079914]\n",
            " [  0.           0.           0.           0.        ]\n",
            " [  0.           0.           0.           0.        ]]\n",
            "Option Price\n",
            "30.79729064682631\n"
          ]
        }
      ]
    },
    {
      "cell_type": "code",
      "source": [
        "import numpy as np\n",
        "\n",
        "# Define the input values\n",
        "S0 = 100      # Initial stock price\n",
        "u = 1.3499       # Up factor\n",
        "d = 0.7408       # Down factor\n",
        "r = 0.06      # Risk-free interest rate\n",
        "T = 1         # Time to maturity (in years)\n",
        "K = 105       # Strike price\n",
        "\n",
        "# Define the number of time steps and initialize the stock price tree\n",
        "n = 3\n",
        "dt = T / n\n",
        "stock_tree = np.zeros((n+1, n+1))\n",
        "stock_tree[0, 0] = S0\n",
        "\n",
        "# Fill in the stock price tree\n",
        "for i in range(1, n+1):\n",
        "    for j in range(i+1):\n",
        "        stock_tree[j, i] = S0 * u**(i-j) * d**j\n",
        "\n",
        "# Initialize the option price tree\n",
        "option_tree = np.zeros((n+1, n+1))\n",
        "\n",
        "# Fill in the option price tree at the final nodes\n",
        "for j in range(n+1):\n",
        "    option_tree[j, n] = max(stock_tree[j, n] - K, 0)\n",
        "\n",
        "# Work backwards through the tree to calculate the option prices at each node\n",
        "for i in range(n-1, -1, -1):\n",
        "    for j in range(i+1):\n",
        "        option_tree[j, i] = np.exp(-r * dt) * (u * option_tree[j, i+1] + d * option_tree[j+1, i+1]) / 2\n",
        "\n",
        "# Print the option price at time 0\n",
        "print(\"Option price:\", option_tree[0, 0])"
      ],
      "metadata": {
        "colab": {
          "base_uri": "https://localhost:8080/"
        },
        "id": "F4fpdxHgUzzI",
        "outputId": "971b83e9-3063-4144-8a86-a46aa2eb29a9"
      },
      "execution_count": 16,
      "outputs": [
        {
          "output_type": "stream",
          "name": "stdout",
          "text": [
            "Option price: 55.12242105218408\n"
          ]
        }
      ]
    },
    {
      "cell_type": "code",
      "source": [],
      "metadata": {
        "id": "xdL_6qTjVncs"
      },
      "execution_count": null,
      "outputs": []
    }
  ]
}